{
  "nbformat": 4,
  "nbformat_minor": 0,
  "metadata": {
    "colab": {
      "provenance": [],
      "mount_file_id": "1GGQt7VzVqadTfyXv9pTklzDQExBqfkvu",
      "authorship_tag": "ABX9TyO0P/Ccu2g+jC/kbgrr2mVD",
      "include_colab_link": true
    },
    "kernelspec": {
      "name": "python3",
      "display_name": "Python 3"
    },
    "language_info": {
      "name": "python"
    }
  },
  "cells": [
    {
      "cell_type": "markdown",
      "metadata": {
        "id": "view-in-github",
        "colab_type": "text"
      },
      "source": [
        "<a href=\"https://colab.research.google.com/github/moharamfatema/modulation-classification/blob/main/modulation_classification.ipynb\" target=\"_parent\"><img src=\"https://colab.research.google.com/assets/colab-badge.svg\" alt=\"Open In Colab\"/></a>"
      ]
    },
    {
      "cell_type": "code",
      "execution_count": null,
      "metadata": {
        "id": "U1wbNKJFjYrI"
      },
      "outputs": [],
      "source": [
        "# ! wget -P /content/drive/MyDrive/datasets/deepsig https://f002.backblazeb2.com/file/deepsig-datasets/2016.10/RML2016.10b.tar.bz2"
      ]
    },
    {
      "cell_type": "code",
      "source": [
        "# ! mv /content/drive/MyDrive/datasets/deepsig/RML2016.10b.tar.bz2?Authorization=3_20221227213905_2c795ffc54e9046c69c5217c_469e51be5cab6f465d8a532240da083f077ea3dc_002_20221227223905_0027_dnld /content/drive/MyDrive/datasets/deepsig/RML2016.10b.tar.bz2"
      ],
      "metadata": {
        "id": "RllkIhqElC4Q"
      },
      "execution_count": 23,
      "outputs": []
    },
    {
      "cell_type": "code",
      "source": [
        "# ! tar -xvf /content/drive/MyDrive/datasets/deepsig/RML2016.10b.tar.bz2 -C /content/drive/MyDrive/datasets/deepsig/RML2016.10b"
      ],
      "metadata": {
        "colab": {
          "base_uri": "https://localhost:8080/"
        },
        "id": "y1KG4V4Dj2XT",
        "outputId": "b6f645a0-8447-4571-96e7-cd49ea545966"
      },
      "execution_count": 32,
      "outputs": [
        {
          "output_type": "stream",
          "name": "stdout",
          "text": [
            "RML2016.10b.dat\n",
            "LICENSE.TXT\n"
          ]
        }
      ]
    },
    {
      "cell_type": "code",
      "source": [
        "# ! more /content/drive/MyDrive/datasets/deepsig/RML2016.10b/RML2016.10b.dat"
      ],
      "metadata": {
        "colab": {
          "base_uri": "https://localhost:8080/"
        },
        "id": "caiWtBs6pMu-",
        "outputId": "3a385169-93d8-449f-a759-39dd3b88334a"
      },
      "execution_count": 33,
      "outputs": [
        {
          "output_type": "stream",
          "name": "stdout",
          "text": [
            "(dp1\n",
            "(S'QPSK'\n",
            "p2\n",
            "I2\n",
            "tp3\n",
            "cnumpy.core.multiarray\n",
            "_reconstruct\n",
            "p4\n",
            "(cnumpy\n",
            "ndarray\n",
            "p5\n",
            "(I0\n",
            "tS'b'\n",
            "tRp6\n",
            "(I1\n",
            "(I6000\n",
            "I2\n",
            "I128\n",
            "tcnumpy\n",
            "dtype\n",
            "p7\n",
            "(S'f4'\n",
            "I0\n",
            "\u001b[K"
          ]
        }
      ]
    },
    {
      "cell_type": "code",
      "source": [
        "# ! rm /content/drive/MyDrive/datasets/deepsig/RML2016.10b.tar.bz2"
      ],
      "metadata": {
        "id": "XKe5aOQBp0GS"
      },
      "execution_count": 36,
      "outputs": []
    },
    {
      "cell_type": "code",
      "source": [
        "import numpy as np\n",
        "import pickle"
      ],
      "metadata": {
        "id": "uM_QYnh9pjoS"
      },
      "execution_count": 41,
      "outputs": []
    },
    {
      "cell_type": "code",
      "source": [
        "ROOT = '/content/drive/MyDrive/datasets/deepsig/RML2016.10b/'\n",
        "DAT = ROOT + 'RML2016.10b.dat'"
      ],
      "metadata": {
        "id": "fXpgR_y8phau"
      },
      "execution_count": 38,
      "outputs": []
    },
    {
      "cell_type": "code",
      "source": [
        "# from https://github.com/radioML/examples/blob/master/modulation_recognition/RML2016.10a_VTCNN2_example.ipynb\n",
        "# modified for python 3\n",
        "Xd = pickle.load(open(DAT, 'rb'), encoding='latin1')\n",
        "snrs,mods = map(lambda j: sorted(list(set(map(lambda x: x[j], Xd.keys())))), [1,0])\n",
        "X = []  \n",
        "lbl = []\n",
        "for mod in mods:\n",
        "    for snr in snrs:\n",
        "        X.append(Xd[(mod,snr)])\n",
        "        for i in range(Xd[(mod,snr)].shape[0]):  lbl.append((mod,snr))\n",
        "X = np.vstack(X)\n",
        "y = np.array(lbl)"
      ],
      "metadata": {
        "id": "GaW7JdgoqnqN"
      },
      "execution_count": 42,
      "outputs": []
    },
    {
      "cell_type": "code",
      "source": [
        "X.shape, y.shape"
      ],
      "metadata": {
        "colab": {
          "base_uri": "https://localhost:8080/"
        },
        "id": "z1mfc1h0rngj",
        "outputId": "b8196a43-04d5-4e9d-911d-c08cb3ef4b36"
      },
      "execution_count": 49,
      "outputs": [
        {
          "output_type": "execute_result",
          "data": {
            "text/plain": [
              "((1200000, 2, 128), (1200000, 2))"
            ]
          },
          "metadata": {},
          "execution_count": 49
        }
      ]
    }
  ]
}