{
 "cells": [
  {
   "cell_type": "markdown",
   "id": "d1519b7d",
   "metadata": {
    "papermill": {
     "duration": 0.00936,
     "end_time": "2022-12-30T21:05:12.137917",
     "exception": false,
     "start_time": "2022-12-30T21:05:12.128557",
     "status": "completed"
    },
    "tags": []
   },
   "source": [
    "**To download and untar the dataset in colab:**\n",
    "\n",
    "```bash\n",
    "! mkdir -P /content/drive/MyDrive/datasets/deepsig\n",
    "! wget -P /content/drive/MyDrive/datasets/deepsig https://f002.backblazeb2.com/file/deepsig-datasets/2016.10/RML2016.10b.tar.bz2?Authorization=3_20221227213905_2c795ffc54e9046c69c5217c_469e51be5cab6f465d8a532240da083f077ea3dc_002_20221227223905_0027_dnld\n",
    "! mv /content/drive/MyDrive/datasets/deepsig/RML2016.10b.tar.bz2?Authorization=3_20221227213905_2c795ffc54e9046c69c5217c_469e51be5cab6f465d8a532240da083f077ea3dc_002_20221227223905_0027_dnld /content/drive/MyDrive/datasets/deepsig/RML2016.10b.tar.bz2\n",
    "! tar -xvf /content/drive/MyDrive/datasets/deepsig/RML2016.10b.tar.bz2 -C /content/drive/MyDrive/datasets/deepsig/RML2016.10b\n",
    "! rm /content/drive/MyDrive/datasets/deepsig/RML2016.10b.tar.bz2\n",
    "```\n",
    "\n",
    "> Note : \n",
    "> The link will not work, you will have to request a link from the website."
   ]
  },
  {
   "cell_type": "markdown",
   "id": "bec7dc76",
   "metadata": {
    "papermill": {
     "duration": 0.007621,
     "end_time": "2022-12-30T21:05:12.153817",
     "exception": false,
     "start_time": "2022-12-30T21:05:12.146196",
     "status": "completed"
    },
    "tags": []
   },
   "source": [
    "# Imports and Constants"
   ]
  },
  {
   "cell_type": "code",
   "execution_count": 1,
   "id": "db38b89c",
   "metadata": {
    "_cell_guid": "b1076dfc-b9ad-4769-8c92-a6c4dae69d19",
    "_uuid": "8f2839f25d086af736a60e9eeb907d3b93b6e0e5",
    "execution": {
     "iopub.execute_input": "2022-12-30T21:05:12.175281Z",
     "iopub.status.busy": "2022-12-30T21:05:12.174373Z",
     "iopub.status.idle": "2022-12-30T21:05:21.529491Z",
     "shell.execute_reply": "2022-12-30T21:05:21.528064Z"
    },
    "papermill": {
     "duration": 9.369632,
     "end_time": "2022-12-30T21:05:21.532985",
     "exception": false,
     "start_time": "2022-12-30T21:05:12.163353",
     "status": "completed"
    },
    "tags": []
   },
   "outputs": [],
   "source": [
    "import pickle\n",
    "\n",
    "import numpy as np\n",
    "import scipy as sci\n",
    "from scipy.integrate import cumulative_trapezoid\n",
    "\n",
    "from sklearn.model_selection import train_test_split\n",
    "from sklearn.preprocessing import OneHotEncoder\n",
    "\n",
    "import plotly.graph_objects as go\n",
    "import plotly.express as px\n",
    "import matplotlib.pyplot as plt\n",
    "\n",
    "import tensorflow as tf\n",
    "from tensorflow import keras\n",
    "from tensorflow.keras import layers\n",
    "\n",
    "ROOT = '/kaggle/input/rml2016'\n",
    "DAT = ROOT + '/RML2016.10b.dat'"
   ]
  },
  {
   "cell_type": "markdown",
   "id": "cf88999c",
   "metadata": {
    "papermill": {
     "duration": 0.00769,
     "end_time": "2022-12-30T21:05:21.549386",
     "exception": false,
     "start_time": "2022-12-30T21:05:21.541696",
     "status": "completed"
    },
    "tags": []
   },
   "source": [
    "# Loading and exploring the data"
   ]
  },
  {
   "cell_type": "code",
   "execution_count": 2,
   "id": "ea836f17",
   "metadata": {
    "execution": {
     "iopub.execute_input": "2022-12-30T21:05:21.566969Z",
     "iopub.status.busy": "2022-12-30T21:05:21.566124Z",
     "iopub.status.idle": "2022-12-30T21:06:26.126559Z",
     "shell.execute_reply": "2022-12-30T21:06:26.125096Z"
    },
    "papermill": {
     "duration": 64.579509,
     "end_time": "2022-12-30T21:06:26.136452",
     "exception": false,
     "start_time": "2022-12-30T21:05:21.556943",
     "status": "completed"
    },
    "tags": []
   },
   "outputs": [
    {
     "data": {
      "text/plain": [
       "((1200000, 2, 128), (1200000, 2))"
      ]
     },
     "execution_count": 2,
     "metadata": {},
     "output_type": "execute_result"
    }
   ],
   "source": [
    "# from https://github.com/radioML/examples/blob/master/modulation_recognition/RML2016.10a_VTCNN2_example.ipynb\n",
    "# modified for python 3\n",
    "Xd = pickle.load(open(DAT, 'rb'), encoding='latin1')\n",
    "snrs,mods = map(lambda j: sorted(list(set(map(lambda x: x[j], Xd.keys())))), [1,0])\n",
    "X = []  \n",
    "lbl = []\n",
    "for mod in mods:\n",
    "    for snr in snrs:\n",
    "        X.append(Xd[(mod,snr)])\n",
    "        for i in range(Xd[(mod,snr)].shape[0]):  lbl.append((mod,snr))\n",
    "X = np.vstack(X)\n",
    "y = np.array(lbl)\n",
    "\n",
    "X.shape, y.shape"
   ]
  },
  {
   "cell_type": "code",
   "execution_count": 3,
   "id": "0d8998ed",
   "metadata": {
    "execution": {
     "iopub.execute_input": "2022-12-30T21:06:26.153486Z",
     "iopub.status.busy": "2022-12-30T21:06:26.153060Z",
     "iopub.status.idle": "2022-12-30T21:06:27.636084Z",
     "shell.execute_reply": "2022-12-30T21:06:27.631377Z"
    },
    "papermill": {
     "duration": 1.500483,
     "end_time": "2022-12-30T21:06:27.644533",
     "exception": false,
     "start_time": "2022-12-30T21:06:26.144050",
     "status": "completed"
    },
    "tags": []
   },
   "outputs": [
    {
     "name": "stdout",
     "output_type": "stream",
     "text": [
      "(array(['8PSK', 'AM-DSB', 'BPSK', 'CPFSK', 'GFSK', 'PAM4', 'QAM16',\n",
      "       'QAM64', 'QPSK', 'WBFM'], dtype='<U21'), array([120000, 120000, 120000, 120000, 120000, 120000, 120000, 120000,\n",
      "       120000, 120000]))\n",
      "\n",
      "(array(['-10', '-12', '-14', '-16', '-18', '-2', '-20', '-4', '-6', '-8',\n",
      "       '0', '10', '12', '14', '16', '18', '2', '4', '6', '8'],\n",
      "      dtype='<U21'), array([60000, 60000, 60000, 60000, 60000, 60000, 60000, 60000, 60000,\n",
      "       60000, 60000, 60000, 60000, 60000, 60000, 60000, 60000, 60000,\n",
      "       60000, 60000]))\n"
     ]
    }
   ],
   "source": [
    "# The labels\n",
    "print(f'{np.unique(y[:,0],return_counts=True)}\\n\\n\\\n",
    "{np.unique(y[:,1],return_counts=True)}')"
   ]
  },
  {
   "cell_type": "code",
   "execution_count": 4,
   "id": "c3037738",
   "metadata": {
    "execution": {
     "iopub.execute_input": "2022-12-30T21:06:27.697648Z",
     "iopub.status.busy": "2022-12-30T21:06:27.695724Z",
     "iopub.status.idle": "2022-12-30T21:06:28.032475Z",
     "shell.execute_reply": "2022-12-30T21:06:28.031000Z"
    },
    "papermill": {
     "duration": 0.366075,
     "end_time": "2022-12-30T21:06:28.036279",
     "exception": false,
     "start_time": "2022-12-30T21:06:27.670204",
     "status": "completed"
    },
    "tags": []
   },
   "outputs": [
    {
     "data": {
      "image/png": "[encoded data removed]",
      "text/plain": [
       "<Figure size 432x288 with 1 Axes>"
      ]
     },
     "metadata": {
      "needs_background": "light"
     },
     "output_type": "display_data"
    }
   ],
   "source": [
    "plt.plot(X[0,0])\n",
    "plt.plot(X[0,1])\n",
    "plt.title(f'{y[0,0]} , {y[0,1]}')\n",
    "plt.show()"
   ]
  },
  {
   "cell_type": "markdown",
   "id": "145bfa6e",
   "metadata": {
    "papermill": {
     "duration": 0.008571,
     "end_time": "2022-12-30T21:06:28.055197",
     "exception": false,
     "start_time": "2022-12-30T21:06:28.046626",
     "status": "completed"
    },
    "tags": []
   },
   "source": [
    "## Signal derivative"
   ]
  },
  {
   "cell_type": "code",
   "execution_count": 5,
   "id": "1499333a",
   "metadata": {
    "execution": {
     "iopub.execute_input": "2022-12-30T21:06:28.075470Z",
     "iopub.status.busy": "2022-12-30T21:06:28.074456Z",
     "iopub.status.idle": "2022-12-30T21:06:28.187666Z",
     "shell.execute_reply": "2022-12-30T21:06:28.186426Z"
    },
    "papermill": {
     "duration": 0.125982,
     "end_time": "2022-12-30T21:06:28.190478",
     "exception": false,
     "start_time": "2022-12-30T21:06:28.064496",
     "status": "completed"
    },
    "tags": []
   },
   "outputs": [
    {
     "name": "stderr",
     "output_type": "stream",
     "text": [
      "/opt/conda/lib/python3.7/site-packages/plotly/graph_objs/_deprecations.py:385: DeprecationWarning:\n",
      "\n",
      "plotly.graph_objs.Line is deprecated.\n",
      "Please replace it with one of the following more specific types\n",
      "  - plotly.graph_objs.scatter.Line\n",
      "  - plotly.graph_objs.layout.shape.Line\n",
      "  - etc.\n",
      "\n",
      "\n"
     ]
    },
    {
     "data": {
      "text/html": [
       "        <script type=\"text/javascript\">\n",
       "        window.PlotlyConfig = {MathJaxConfig: 'local'};\n",
       "        if (window.MathJax && window.MathJax.Hub && window.MathJax.Hub.Config) {window.MathJax.Hub.Config({SVG: {font: \"STIX-Web\"}});}\n",
       "        if (typeof require !== 'undefined') {\n",
       "        require.undef(\"plotly\");\n",
       "        requirejs.config({\n",
       "            paths: {\n",
       "                'plotly': ['https://cdn.plot.ly/plotly-2.14.0.min']\n",
       "            }\n",
       "        });\n",
       "        require(['plotly'], function(Plotly) {\n",
       "            window._Plotly = Plotly;\n",
       "        });\n",
       "        }\n",
       "        </script>\n",
       "        "
      ]
     },
     "metadata": {},
     "output_type": "display_data"
    },
    {
     "data": {
      "text/html": [
       "<div>                            <div id=\"91641977-b205-4192-9f3b-58eed361fc08\" class=\"plotly-graph-div\" style=\"height:525px; width:100%;\"></div>            <script type=\"text/javascript\">                require([\"plotly\"], function(Plotly) {                    window.PLOTLYENV=window.PLOTLYENV || {};                                    if (document.getElementById(\"91641977-b205-4192-9f3b-58eed361fc08\")) {                    Plotly.newPlot(                        \"91641977-b205-4192-9f3b-58eed361fc08\",                        [{\"name\":\"derivative\",\"x\":[0.0,1.0,2.0,3.0,4.0,5.0,6.0,7.0,8.0,9.0,10.0,11.0,12.0,13.0,14.0,15.0,16.0,17.0,18.0,19.0,20.0,21.0,22.0,23.0,24.0,25.0,26.0,27.0,28.0,29.0,30.0,31.0,32.0,33.0,34.0,35.0,36.0,37.0,38.0,39.0,40.0,41.0,42.0,43.0,44.0,45.0,46.0,47.0,48.0,49.0,50.0,51.0,52.0,53.0,54.0,55.0,56.0,57.0,58.0,59.0,60.0,61.0,62.0,63.0,64.0,65.0,66.0,67.0,68.0,69.0,70.0,71.0,72.0,73.0,74.0,75.0,76.0,77.0,78.0,79.0,80.0,81.0,82.0,83.0,84.0,85.0,86.0,87.0,88.0,89.0,90.0,91.0,92.0,93.0,94.0,95.0,96.0,97.0,98.0,99.0,100.0,101.0,102.0,103.0,104.0,105.0,106.0,107.0,108.0,109.0,110.0,111.0,112.0,113.0,114.0,115.0,116.0,117.0,118.0,119.0,120.0,121.0,122.0,123.0,124.0,125.0,126.0,127.0],\"y\":[-0.0030757328,-0.0063179284,-0.0008355391,0.0046678763,0.0034176984,-0.0030460553,-0.0036609815,-0.0038111845,0.000048548332,0.0071852,0.0009123299,-0.001524044,-0.0060041165,0.002412406,0.004331559,-0.004020439,-0.0007165823,0.002374548,-0.0016609711,-0.0014710617,-0.0038828927,-0.0042168032,0.0037548668,-0.00066472404,0.0015605057,0.0012306897,-0.001904292,0.004451613,-0.00159957,-0.00447921,0.000964273,0.008587208,0.0027849392,-0.0060916794,0.0031494033,0.0027357198,-0.0020115427,-0.000427993,0.00055985234,-0.006676385,-0.0044980664,0.005620351,0.0058366517,0.00072584813,-0.0064223707,-0.00413769,0.0050882166,0.001503017,-0.0028159353,0.0048512076,-0.007917187,-0.003077388,0.011015423,-0.0029404436,-0.0010743535,-0.0029426003,0.0024840515,0.004424437,-0.003079859,0.0023692586,-0.0017379484,0.0058263172,0.004050086,-0.007433743,-0.0019264007,-0.0028315498,0.0046792543,0.002628728,-0.009693658,0.0013713466,-0.00038855872,0.0023146714,0.0041497303,-0.0053569754,0.003401782,0.00013512175,0.00047994498,0.003739779,-0.0040378887,0.0022086434,-0.00094540894,-0.004157166,0.0030372683,-0.00016985481,-0.006241004,0.0044575143,0.009093676,-0.0072293924,-0.0032520057,0.0014496958,0.0005182355,-0.0046231616,-0.005195708,0.013825718,0.005357323,-0.0074212635,-0.0016570135,0.0002670866,-0.00034781446,-0.0046451283,-0.0044016307,0.0036246444,0.007620142,-0.0030673624,-0.0022599567,0.0019442431,0.00019257178,0.008099643,0.0010108814,-0.0018580477,-0.0075459564,-0.0066501405,0.002805198,0.010685264,0.0046795877,-0.004959109,0.0042788372,-0.0049490794,-0.007135001,-0.0018306891,-0.00078818144,-0.0025902558,0.005111563,0.005894146,-0.004911339,-0.0009510248,0.0031675012,0.004823858],\"type\":\"scatter\"},{\"name\":\"original signal\",\"x\":[0.0,1.0,2.0,3.0,4.0,5.0,6.0,7.0,8.0,9.0,10.0,11.0,12.0,13.0,14.0,15.0,16.0,17.0,18.0,19.0,20.0,21.0,22.0,23.0,24.0,25.0,26.0,27.0,28.0,29.0,30.0,31.0,32.0,33.0,34.0,35.0,36.0,37.0,38.0,39.0,40.0,41.0,42.0,43.0,44.0,45.0,46.0,47.0,48.0,49.0,50.0,51.0,52.0,53.0,54.0,55.0,56.0,57.0,58.0,59.0,60.0,61.0,62.0,63.0,64.0,65.0,66.0,67.0,68.0,69.0,70.0,71.0,72.0,73.0,74.0,75.0,76.0,77.0,78.0,79.0,80.0,81.0,82.0,83.0,84.0,85.0,86.0,87.0,88.0,89.0,90.0,91.0,92.0,93.0,94.0,95.0,96.0,97.0,98.0,99.0,100.0,101.0,102.0,103.0,104.0,105.0,106.0,107.0,108.0,109.0,110.0,111.0,112.0,113.0,114.0,115.0,116.0,117.0,118.0,119.0,120.0,121.0,122.0,123.0,124.0,125.0,126.0,127.0],\"y\":[0.009070556,0.005994823,-0.0035653014,0.0043237447,0.005770451,0.011159142,-0.0003216596,0.0038371787,-0.007944029,0.0039342754,0.0064263716,0.005758935,0.0033782837,-0.006249298,0.008203096,0.00241382,0.00016221807,0.0009806554,0.004911314,-0.0023412867,0.0019691908,-0.010107072,-0.006464416,-0.0025973385,-0.0077938642,0.00052367285,-0.005332485,-0.0032849112,0.0035707406,-0.0064840512,-0.005387679,-0.0045555052,0.011786737,0.0010143733,-0.0003966222,0.00731318,0.005074817,0.0032900942,0.004218831,0.004409799,-0.00913394,-0.0045863343,0.002106763,0.0070869685,0.0035584592,-0.005757773,-0.0047169216,0.004418661,-0.0017108874,-0.0012132095,0.007991528,-0.017047584,0.0018367522,0.0049832608,-0.004044135,0.0028345538,-0.009929336,0.007802657,-0.0010804615,0.0016429388,0.0036580556,-0.001832958,0.01531069,0.0062672133,0.00044320352,0.0024144119,-0.0052198963,0.01177292,0.00003755991,-0.007614396,0.0027802533,-0.0083915135,0.0074095964,-0.00009205323,-0.0033043544,0.0067115105,-0.0030341109,0.0076714004,0.004445447,-0.00040437718,0.008862734,-0.0022951951,0.0005484015,0.0037793415,0.00020869187,-0.0087026665,0.00912372,0.009484686,-0.0053350646,0.0029806744,-0.002435673,0.0040171454,-0.011681996,-0.0063742707,0.01596944,0.0043403753,0.0011269138,0.0010263482,0.001661087,0.00033071925,-0.007629169,-0.008472542,-0.00037988057,0.006767742,-0.006514605,0.0022478285,-0.002626119,0.002632972,0.013573167,0.004654735,0.009857072,-0.010437178,-0.0034432092,-0.0048267823,0.017927319,0.004532393,0.008009101,0.013090068,-0.0018890576,-0.0011799347,-0.0055504357,-0.0027562976,-0.010730947,0.007466829,0.001057345,-0.002355849,-0.0008447047,0.0039791535],\"type\":\"scatter\"}],                        {\"template\":{\"data\":{\"histogram2dcontour\":[{\"type\":\"histogram2dcontour\",\"colorbar\":{\"outlinewidth\":0,\"ticks\":\"\"},\"colorscale\":[[0.0,\"#0d0887\"],[0.1111111111111111,\"#46039f\"],[0.2222222222222222,\"#7201a8\"],[0.3333333333333333,\"#9c179e\"],[0.4444444444444444,\"#bd3786\"],[0.5555555555555556,\"#d8576b\"],[0.6666666666666666,\"#ed7953\"],[0.7777777777777778,\"#fb9f3a\"],[0.8888888888888888,\"#fdca26\"],[1.0,\"#f0f921\"]]}],\"choropleth\":[{\"type\":\"choropleth\",\"colorbar\":{\"outlinewidth\":0,\"ticks\":\"\"}}],\"histogram2d\":[{\"type\":\"histogram2d\",\"colorbar\":{\"outlinewidth\":0,\"ticks\":\"\"},\"colorscale\":[[0.0,\"#0d0887\"],[0.1111111111111111,\"#46039f\"],[0.2222222222222222,\"#7201a8\"],[0.3333333333333333,\"#9c179e\"],[0.4444444444444444,\"#bd3786\"],[0.5555555555555556,\"#d8576b\"],[0.6666666666666666,\"#ed7953\"],[0.7777777777777778,\"#fb9f3a\"],[0.8888888888888888,\"#fdca26\"],[1.0,\"#f0f921\"]]}],\"heatmap\":[{\"type\":\"heatmap\",\"colorbar\":{\"outlinewidth\":0,\"ticks\":\"\"},\"colorscale\":[[0.0,\"#0d0887\"],[0.1111111111111111,\"#46039f\"],[0.2222222222222222,\"#7201a8\"],[0.3333333333333333,\"#9c179e\"],[0.4444444444444444,\"#bd3786\"],[0.5555555555555556,\"#d8576b\"],[0.6666666666666666,\"#ed7953\"],[0.7777777777777778,\"#fb9f3a\"],[0.8888888888888888,\"#fdca26\"],[1.0,\"#f0f921\"]]}],\"heatmapgl\":[{\"type\":\"heatmapgl\",\"colorbar\":{\"outlinewidth\":0,\"ticks\":\"\"},\"colorscale\":[[0.0,\"#0d0887\"],[0.1111111111111111,\"#46039f\"],[0.2222222222222222,\"#7201a8\"],[0.3333333333333333,\"#9c179e\"],[0.4444444444444444,\"#bd3786\"],[0.5555555555555556,\"#d8576b\"],[0.6666666666666666,\"#ed7953\"],[0.7777777777777778,\"#fb9f3a\"],[0.8888888888888888,\"#fdca26\"],[1.0,\"#f0f921\"]]}],\"contourcarpet\":[{\"type\":\"contourcarpet\",\"colorbar\":{\"outlinewidth\":0,\"ticks\":\"\"}}],\"contour\":[{\"type\":\"contour\",\"colorbar\":{\"outlinewidth\":0,\"ticks\":\"\"},\"colorscale\":[[0.0,\"#0d0887\"],[0.1111111111111111,\"#46039f\"],[0.2222222222222222,\"#7201a8\"],[0.3333333333333333,\"#9c179e\"],[0.4444444444444444,\"#bd3786\"],[0.5555555555555556,\"#d8576b\"],[0.6666666666666666,\"#ed7953\"],[0.7777777777777778,\"#fb9f3a\"],[0.8888888888888888,\"#fdca26\"],[1.0,\"#f0f921\"]]}],\"surface\":[{\"type\":\"surface\",\"colorbar\":{\"outlinewidth\":0,\"ticks\":\"\"},\"colorscale\":[[0.0,\"#0d0887\"],[0.1111111111111111,\"#46039f\"],[0.2222222222222222,\"#7201a8\"],[0.3333333333333333,\"#9c179e\"],[0.4444444444444444,\"#bd3786\"],[0.5555555555555556,\"#d8576b\"],[0.6666666666666666,\"#ed7953\"],[0.7777777777777778,\"#fb9f3a\"],[0.8888888888888888,\"#fdca26\"],[1.0,\"#f0f921\"]]}],\"mesh3d\":[{\"type\":\"mesh3d\",\"colorbar\":{\"outlinewidth\":0,\"ticks\":\"\"}}],\"scatter\":[{\"fillpattern\":{\"fillmode\":\"overlay\",\"size\":10,\"solidity\":0.2},\"type\":\"scatter\"}],\"parcoords\":[{\"type\":\"parcoords\",\"line\":{\"colorbar\":{\"outlinewidth\":0,\"ticks\":\"\"}}}],\"scatterpolargl\":[{\"type\":\"scatterpolargl\",\"marker\":{\"colorbar\":{\"outlinewidth\":0,\"ticks\":\"\"}}}],\"bar\":[{\"error_x\":{\"color\":\"#2a3f5f\"},\"error_y\":{\"color\":\"#2a3f5f\"},\"marker\":{\"line\":{\"color\":\"#E5ECF6\",\"width\":0.5},\"pattern\":{\"fillmode\":\"overlay\",\"size\":10,\"solidity\":0.2}},\"type\":\"bar\"}],\"scattergeo\":[{\"type\":\"scattergeo\",\"marker\":{\"colorbar\":{\"outlinewidth\":0,\"ticks\":\"\"}}}],\"scatterpolar\":[{\"type\":\"scatterpolar\",\"marker\":{\"colorbar\":{\"outlinewidth\":0,\"ticks\":\"\"}}}],\"histogram\":[{\"marker\":{\"pattern\":{\"fillmode\":\"overlay\",\"size\":10,\"solidity\":0.2}},\"type\":\"histogram\"}],\"scattergl\":[{\"type\":\"scattergl\",\"marker\":{\"colorbar\":{\"outlinewidth\":0,\"ticks\":\"\"}}}],\"scatter3d\":[{\"type\":\"scatter3d\",\"line\":{\"colorbar\":{\"outlinewidth\":0,\"ticks\":\"\"}},\"marker\":{\"colorbar\":{\"outlinewidth\":0,\"ticks\":\"\"}}}],\"scattermapbox\":[{\"type\":\"scattermapbox\",\"marker\":{\"colorbar\":{\"outlinewidth\":0,\"ticks\":\"\"}}}],\"scatterternary\":[{\"type\":\"scatterternary\",\"marker\":{\"colorbar\":{\"outlinewidth\":0,\"ticks\":\"\"}}}],\"scattercarpet\":[{\"type\":\"scattercarpet\",\"marker\":{\"colorbar\":{\"outlinewidth\":0,\"ticks\":\"\"}}}],\"carpet\":[{\"aaxis\":{\"endlinecolor\":\"#2a3f5f\",\"gridcolor\":\"white\",\"linecolor\":\"white\",\"minorgridcolor\":\"white\",\"startlinecolor\":\"#2a3f5f\"},\"baxis\":{\"endlinecolor\":\"#2a3f5f\",\"gridcolor\":\"white\",\"linecolor\":\"white\",\"minorgridcolor\":\"white\",\"startlinecolor\":\"#2a3f5f\"},\"type\":\"carpet\"}],\"table\":[{\"cells\":{\"fill\":{\"color\":\"#EBF0F8\"},\"line\":{\"color\":\"white\"}},\"header\":{\"fill\":{\"color\":\"#C8D4E3\"},\"line\":{\"color\":\"white\"}},\"type\":\"table\"}],\"barpolar\":[{\"marker\":{\"line\":{\"color\":\"#E5ECF6\",\"width\":0.5},\"pattern\":{\"fillmode\":\"overlay\",\"size\":10,\"solidity\":0.2}},\"type\":\"barpolar\"}],\"pie\":[{\"automargin\":true,\"type\":\"pie\"}]},\"layout\":{\"autotypenumbers\":\"strict\",\"colorway\":[\"#636efa\",\"#EF553B\",\"#00cc96\",\"#ab63fa\",\"#FFA15A\",\"#19d3f3\",\"#FF6692\",\"#B6E880\",\"#FF97FF\",\"#FECB52\"],\"font\":{\"color\":\"#2a3f5f\"},\"hovermode\":\"closest\",\"hoverlabel\":{\"align\":\"left\"},\"paper_bgcolor\":\"white\",\"plot_bgcolor\":\"#E5ECF6\",\"polar\":{\"bgcolor\":\"#E5ECF6\",\"angularaxis\":{\"gridcolor\":\"white\",\"linecolor\":\"white\",\"ticks\":\"\"},\"radialaxis\":{\"gridcolor\":\"white\",\"linecolor\":\"white\",\"ticks\":\"\"}},\"ternary\":{\"bgcolor\":\"#E5ECF6\",\"aaxis\":{\"gridcolor\":\"white\",\"linecolor\":\"white\",\"ticks\":\"\"},\"baxis\":{\"gridcolor\":\"white\",\"linecolor\":\"white\",\"ticks\":\"\"},\"caxis\":{\"gridcolor\":\"white\",\"linecolor\":\"white\",\"ticks\":\"\"}},\"coloraxis\":{\"colorbar\":{\"outlinewidth\":0,\"ticks\":\"\"}},\"colorscale\":{\"sequential\":[[0.0,\"#0d0887\"],[0.1111111111111111,\"#46039f\"],[0.2222222222222222,\"#7201a8\"],[0.3333333333333333,\"#9c179e\"],[0.4444444444444444,\"#bd3786\"],[0.5555555555555556,\"#d8576b\"],[0.6666666666666666,\"#ed7953\"],[0.7777777777777778,\"#fb9f3a\"],[0.8888888888888888,\"#fdca26\"],[1.0,\"#f0f921\"]],\"sequentialminus\":[[0.0,\"#0d0887\"],[0.1111111111111111,\"#46039f\"],[0.2222222222222222,\"#7201a8\"],[0.3333333333333333,\"#9c179e\"],[0.4444444444444444,\"#bd3786\"],[0.5555555555555556,\"#d8576b\"],[0.6666666666666666,\"#ed7953\"],[0.7777777777777778,\"#fb9f3a\"],[0.8888888888888888,\"#fdca26\"],[1.0,\"#f0f921\"]],\"diverging\":[[0,\"#8e0152\"],[0.1,\"#c51b7d\"],[0.2,\"#de77ae\"],[0.3,\"#f1b6da\"],[0.4,\"#fde0ef\"],[0.5,\"#f7f7f7\"],[0.6,\"#e6f5d0\"],[0.7,\"#b8e186\"],[0.8,\"#7fbc41\"],[0.9,\"#4d9221\"],[1,\"#276419\"]]},\"xaxis\":{\"gridcolor\":\"white\",\"linecolor\":\"white\",\"ticks\":\"\",\"title\":{\"standoff\":15},\"zerolinecolor\":\"white\",\"automargin\":true,\"zerolinewidth\":2},\"yaxis\":{\"gridcolor\":\"white\",\"linecolor\":\"white\",\"ticks\":\"\",\"title\":{\"standoff\":15},\"zerolinecolor\":\"white\",\"automargin\":true,\"zerolinewidth\":2},\"scene\":{\"xaxis\":{\"backgroundcolor\":\"#E5ECF6\",\"gridcolor\":\"white\",\"linecolor\":\"white\",\"showbackground\":true,\"ticks\":\"\",\"zerolinecolor\":\"white\",\"gridwidth\":2},\"yaxis\":{\"backgroundcolor\":\"#E5ECF6\",\"gridcolor\":\"white\",\"linecolor\":\"white\",\"showbackground\":true,\"ticks\":\"\",\"zerolinecolor\":\"white\",\"gridwidth\":2},\"zaxis\":{\"backgroundcolor\":\"#E5ECF6\",\"gridcolor\":\"white\",\"linecolor\":\"white\",\"showbackground\":true,\"ticks\":\"\",\"zerolinecolor\":\"white\",\"gridwidth\":2}},\"shapedefaults\":{\"line\":{\"color\":\"#2a3f5f\"}},\"annotationdefaults\":{\"arrowcolor\":\"#2a3f5f\",\"arrowhead\":0,\"arrowwidth\":1},\"geo\":{\"bgcolor\":\"white\",\"landcolor\":\"#E5ECF6\",\"subunitcolor\":\"white\",\"showland\":true,\"showlakes\":true,\"lakecolor\":\"white\"},\"title\":{\"x\":0.05},\"mapbox\":{\"style\":\"light\"}}}},                        {\"responsive\": true}                    ).then(function(){\n",
       "                            \n",
       "var gd = document.getElementById('91641977-b205-4192-9f3b-58eed361fc08');\n",
       "var x = new MutationObserver(function (mutations, observer) {{\n",
       "        var display = window.getComputedStyle(gd).display;\n",
       "        if (!display || display === 'none') {{\n",
       "            console.log([gd, 'removed!']);\n",
       "            Plotly.purge(gd);\n",
       "            observer.disconnect();\n",
       "        }}\n",
       "}});\n",
       "\n",
       "// Listen for the removal of the full notebook cells\n",
       "var notebookContainer = gd.closest('#notebook-container');\n",
       "if (notebookContainer) {{\n",
       "    x.observe(notebookContainer, {childList: true});\n",
       "}}\n",
       "\n",
       "// Listen for the clearing of the current output cell\n",
       "var outputEl = gd.closest('.output');\n",
       "if (outputEl) {{\n",
       "    x.observe(outputEl, {childList: true});\n",
       "}}\n",
       "\n",
       "                        })                };                });            </script>        </div>"
      ]
     },
     "metadata": {},
     "output_type": "display_data"
    }
   ],
   "source": [
    "d_np = np.gradient(X[0,0])\n",
    "\n",
    "lines=[d_np,X[0,0]]\n",
    "\n",
    "t = np.linspace(0,127,128)\n",
    "\n",
    "fig = go.Figure()\n",
    "fig.add_trace(go.Line(x=t,y=lines[0],name=f'derivative'))\n",
    "fig.add_trace(go.Line(x=t,y=lines[1],name=f'original signal'))\n",
    "\n",
    "fig.show()"
   ]
  },
  {
   "cell_type": "markdown",
   "id": "886e43ee",
   "metadata": {
    "papermill": {
     "duration": 0.013084,
     "end_time": "2022-12-30T21:06:28.220195",
     "exception": false,
     "start_time": "2022-12-30T21:06:28.207111",
     "status": "completed"
    },
    "tags": []
   },
   "source": [
    "## Signal Integral"
   ]
  },
  {
   "cell_type": "code",
   "execution_count": 6,
   "id": "d53c3b73",
   "metadata": {
    "execution": {
     "iopub.execute_input": "2022-12-30T21:06:28.244695Z",
     "iopub.status.busy": "2022-12-30T21:06:28.244294Z",
     "iopub.status.idle": "2022-12-30T21:06:28.258159Z",
     "shell.execute_reply": "2022-12-30T21:06:28.257297Z"
    },
    "papermill": {
     "duration": 0.029162,
     "end_time": "2022-12-30T21:06:28.260563",
     "exception": false,
     "start_time": "2022-12-30T21:06:28.231401",
     "status": "completed"
    },
    "tags": []
   },
   "outputs": [
    {
     "data": {
      "text/html": [
       "<div>                            <div id=\"89bb2793-f7a6-4281-b91b-73a0bf63876f\" class=\"plotly-graph-div\" style=\"height:525px; width:100%;\"></div>            <script type=\"text/javascript\">                require([\"plotly\"], function(Plotly) {                    window.PLOTLYENV=window.PLOTLYENV || {};                                    if (document.getElementById(\"89bb2793-f7a6-4281-b91b-73a0bf63876f\")) {                    Plotly.newPlot(                        \"89bb2793-f7a6-4281-b91b-73a0bf63876f\",                        [{\"name\":\"cumulative trapezoid\",\"x\":[0.0,1.0,2.0,3.0,4.0,5.0,6.0,7.0,8.0,9.0,10.0,11.0,12.0,13.0,14.0,15.0,16.0,17.0,18.0,19.0,20.0,21.0,22.0,23.0,24.0,25.0,26.0,27.0,28.0,29.0,30.0,31.0,32.0,33.0,34.0,35.0,36.0,37.0,38.0,39.0,40.0,41.0,42.0,43.0,44.0,45.0,46.0,47.0,48.0,49.0,50.0,51.0,52.0,53.0,54.0,55.0,56.0,57.0,58.0,59.0,60.0,61.0,62.0,63.0,64.0,65.0,66.0,67.0,68.0,69.0,70.0,71.0,72.0,73.0,74.0,75.0,76.0,77.0,78.0,79.0,80.0,81.0,82.0,83.0,84.0,85.0,86.0,87.0,88.0,89.0,90.0,91.0,92.0,93.0,94.0,95.0,96.0,97.0,98.0,99.0,100.0,101.0,102.0,103.0,104.0,105.0,106.0,107.0,108.0,109.0,110.0,111.0,112.0,113.0,114.0,115.0,116.0,117.0,118.0,119.0,120.0,121.0,122.0,123.0,124.0,125.0,126.0,127.0],\"y\":[0.0075326893,0.00874745,0.009126672,0.014173769,0.022638567,0.028057307,0.029815067,0.027761642,0.025756765,0.030937089,0.037029743,0.041598354,0.040162846,0.041139744,0.0464482,0.04773622,0.048307657,0.051253643,0.052538656,0.052352607,0.048283666,0.03999792,0.035467044,0.030271443,0.026636347,0.02423194,0.019923244,0.020066159,0.018609503,0.012673638,0.0077020456,0.011317661,0.017718216,0.018027091,0.02148537,0.027679369,0.031861823,0.035616286,0.0399306,0.037568532,0.030708395,0.029468609,0.034065474,0.039388187,0.03828853,0.03305118,0.03290205,0.034255937,0.032793887,0.036183044,0.031655017,0.024049602,0.027459608,0.027929172,0.027324382,0.023776991,0.022713652,0.026074748,0.026355987,0.029006485,0.029919034,0.0366579,0.04744685,0.05080206,0.05223087,0.050828125,0.054104637,0.060009878,0.05622146,0.053804386,0.050998755,0.050507795,0.054166567,0.052468363,0.054171942,0.05601064,0.058329284,0.06438771,0.06640825,0.07063743,0.073921196,0.0730478,0.075211674,0.07720569,0.0729587,0.073169224,0.08247343,0.084548235,0.08337104,0.08364354,0.08443428,0.080601856,0.07157372,0.076371305,0.086526215,0.08925986,0.090336494,0.091680214,0.09267612,0.08902689,0.08097604,0.07654983,0.07974376,0.07987033,0.07773694,0.07754779,0.077551216,0.08565429,0.09476824,0.102024145,0.101734094,0.0947939,0.0906589,0.09720917,0.10843903,0.11470977,0.12525935,0.13085987,0.12932537,0.12596019,0.12180682,0.1150632,0.11343114,0.11769323,0.11704398,0.1154437,0.11701092],\"type\":\"scatter\"},{\"name\":\"original signal\",\"x\":[0.0,1.0,2.0,3.0,4.0,5.0,6.0,7.0,8.0,9.0,10.0,11.0,12.0,13.0,14.0,15.0,16.0,17.0,18.0,19.0,20.0,21.0,22.0,23.0,24.0,25.0,26.0,27.0,28.0,29.0,30.0,31.0,32.0,33.0,34.0,35.0,36.0,37.0,38.0,39.0,40.0,41.0,42.0,43.0,44.0,45.0,46.0,47.0,48.0,49.0,50.0,51.0,52.0,53.0,54.0,55.0,56.0,57.0,58.0,59.0,60.0,61.0,62.0,63.0,64.0,65.0,66.0,67.0,68.0,69.0,70.0,71.0,72.0,73.0,74.0,75.0,76.0,77.0,78.0,79.0,80.0,81.0,82.0,83.0,84.0,85.0,86.0,87.0,88.0,89.0,90.0,91.0,92.0,93.0,94.0,95.0,96.0,97.0,98.0,99.0,100.0,101.0,102.0,103.0,104.0,105.0,106.0,107.0,108.0,109.0,110.0,111.0,112.0,113.0,114.0,115.0,116.0,117.0,118.0,119.0,120.0,121.0,122.0,123.0,124.0,125.0,126.0,127.0],\"y\":[0.009070556,0.005994823,-0.0035653014,0.0043237447,0.005770451,0.011159142,-0.0003216596,0.0038371787,-0.007944029,0.0039342754,0.0064263716,0.005758935,0.0033782837,-0.006249298,0.008203096,0.00241382,0.00016221807,0.0009806554,0.004911314,-0.0023412867,0.0019691908,-0.010107072,-0.006464416,-0.0025973385,-0.0077938642,0.00052367285,-0.005332485,-0.0032849112,0.0035707406,-0.0064840512,-0.005387679,-0.0045555052,0.011786737,0.0010143733,-0.0003966222,0.00731318,0.005074817,0.0032900942,0.004218831,0.004409799,-0.00913394,-0.0045863343,0.002106763,0.0070869685,0.0035584592,-0.005757773,-0.0047169216,0.004418661,-0.0017108874,-0.0012132095,0.007991528,-0.017047584,0.0018367522,0.0049832608,-0.004044135,0.0028345538,-0.009929336,0.007802657,-0.0010804615,0.0016429388,0.0036580556,-0.001832958,0.01531069,0.0062672133,0.00044320352,0.0024144119,-0.0052198963,0.01177292,0.00003755991,-0.007614396,0.0027802533,-0.0083915135,0.0074095964,-0.00009205323,-0.0033043544,0.0067115105,-0.0030341109,0.0076714004,0.004445447,-0.00040437718,0.008862734,-0.0022951951,0.0005484015,0.0037793415,0.00020869187,-0.0087026665,0.00912372,0.009484686,-0.0053350646,0.0029806744,-0.002435673,0.0040171454,-0.011681996,-0.0063742707,0.01596944,0.0043403753,0.0011269138,0.0010263482,0.001661087,0.00033071925,-0.007629169,-0.008472542,-0.00037988057,0.006767742,-0.006514605,0.0022478285,-0.002626119,0.002632972,0.013573167,0.004654735,0.009857072,-0.010437178,-0.0034432092,-0.0048267823,0.017927319,0.004532393,0.008009101,0.013090068,-0.0018890576,-0.0011799347,-0.0055504357,-0.0027562976,-0.010730947,0.007466829,0.001057345,-0.002355849,-0.0008447047,0.0039791535],\"type\":\"scatter\"}],                        {\"template\":{\"data\":{\"histogram2dcontour\":[{\"type\":\"histogram2dcontour\",\"colorbar\":{\"outlinewidth\":0,\"ticks\":\"\"},\"colorscale\":[[0.0,\"#0d0887\"],[0.1111111111111111,\"#46039f\"],[0.2222222222222222,\"#7201a8\"],[0.3333333333333333,\"#9c179e\"],[0.4444444444444444,\"#bd3786\"],[0.5555555555555556,\"#d8576b\"],[0.6666666666666666,\"#ed7953\"],[0.7777777777777778,\"#fb9f3a\"],[0.8888888888888888,\"#fdca26\"],[1.0,\"#f0f921\"]]}],\"choropleth\":[{\"type\":\"choropleth\",\"colorbar\":{\"outlinewidth\":0,\"ticks\":\"\"}}],\"histogram2d\":[{\"type\":\"histogram2d\",\"colorbar\":{\"outlinewidth\":0,\"ticks\":\"\"},\"colorscale\":[[0.0,\"#0d0887\"],[0.1111111111111111,\"#46039f\"],[0.2222222222222222,\"#7201a8\"],[0.3333333333333333,\"#9c179e\"],[0.4444444444444444,\"#bd3786\"],[0.5555555555555556,\"#d8576b\"],[0.6666666666666666,\"#ed7953\"],[0.7777777777777778,\"#fb9f3a\"],[0.8888888888888888,\"#fdca26\"],[1.0,\"#f0f921\"]]}],\"heatmap\":[{\"type\":\"heatmap\",\"colorbar\":{\"outlinewidth\":0,\"ticks\":\"\"},\"colorscale\":[[0.0,\"#0d0887\"],[0.1111111111111111,\"#46039f\"],[0.2222222222222222,\"#7201a8\"],[0.3333333333333333,\"#9c179e\"],[0.4444444444444444,\"#bd3786\"],[0.5555555555555556,\"#d8576b\"],[0.6666666666666666,\"#ed7953\"],[0.7777777777777778,\"#fb9f3a\"],[0.8888888888888888,\"#fdca26\"],[1.0,\"#f0f921\"]]}],\"heatmapgl\":[{\"type\":\"heatmapgl\",\"colorbar\":{\"outlinewidth\":0,\"ticks\":\"\"},\"colorscale\":[[0.0,\"#0d0887\"],[0.1111111111111111,\"#46039f\"],[0.2222222222222222,\"#7201a8\"],[0.3333333333333333,\"#9c179e\"],[0.4444444444444444,\"#bd3786\"],[0.5555555555555556,\"#d8576b\"],[0.6666666666666666,\"#ed7953\"],[0.7777777777777778,\"#fb9f3a\"],[0.8888888888888888,\"#fdca26\"],[1.0,\"#f0f921\"]]}],\"contourcarpet\":[{\"type\":\"contourcarpet\",\"colorbar\":{\"outlinewidth\":0,\"ticks\":\"\"}}],\"contour\":[{\"type\":\"contour\",\"colorbar\":{\"outlinewidth\":0,\"ticks\":\"\"},\"colorscale\":[[0.0,\"#0d0887\"],[0.1111111111111111,\"#46039f\"],[0.2222222222222222,\"#7201a8\"],[0.3333333333333333,\"#9c179e\"],[0.4444444444444444,\"#bd3786\"],[0.5555555555555556,\"#d8576b\"],[0.6666666666666666,\"#ed7953\"],[0.7777777777777778,\"#fb9f3a\"],[0.8888888888888888,\"#fdca26\"],[1.0,\"#f0f921\"]]}],\"surface\":[{\"type\":\"surface\",\"colorbar\":{\"outlinewidth\":0,\"ticks\":\"\"},\"colorscale\":[[0.0,\"#0d0887\"],[0.1111111111111111,\"#46039f\"],[0.2222222222222222,\"#7201a8\"],[0.3333333333333333,\"#9c179e\"],[0.4444444444444444,\"#bd3786\"],[0.5555555555555556,\"#d8576b\"],[0.6666666666666666,\"#ed7953\"],[0.7777777777777778,\"#fb9f3a\"],[0.8888888888888888,\"#fdca26\"],[1.0,\"#f0f921\"]]}],\"mesh3d\":[{\"type\":\"mesh3d\",\"colorbar\":{\"outlinewidth\":0,\"ticks\":\"\"}}],\"scatter\":[{\"fillpattern\":{\"fillmode\":\"overlay\",\"size\":10,\"solidity\":0.2},\"type\":\"scatter\"}],\"parcoords\":[{\"type\":\"parcoords\",\"line\":{\"colorbar\":{\"outlinewidth\":0,\"ticks\":\"\"}}}],\"scatterpolargl\":[{\"type\":\"scatterpolargl\",\"marker\":{\"colorbar\":{\"outlinewidth\":0,\"ticks\":\"\"}}}],\"bar\":[{\"error_x\":{\"color\":\"#2a3f5f\"},\"error_y\":{\"color\":\"#2a3f5f\"},\"marker\":{\"line\":{\"color\":\"#E5ECF6\",\"width\":0.5},\"pattern\":{\"fillmode\":\"overlay\",\"size\":10,\"solidity\":0.2}},\"type\":\"bar\"}],\"scattergeo\":[{\"type\":\"scattergeo\",\"marker\":{\"colorbar\":{\"outlinewidth\":0,\"ticks\":\"\"}}}],\"scatterpolar\":[{\"type\":\"scatterpolar\",\"marker\":{\"colorbar\":{\"outlinewidth\":0,\"ticks\":\"\"}}}],\"histogram\":[{\"marker\":{\"pattern\":{\"fillmode\":\"overlay\",\"size\":10,\"solidity\":0.2}},\"type\":\"histogram\"}],\"scattergl\":[{\"type\":\"scattergl\",\"marker\":{\"colorbar\":{\"outlinewidth\":0,\"ticks\":\"\"}}}],\"scatter3d\":[{\"type\":\"scatter3d\",\"line\":{\"colorbar\":{\"outlinewidth\":0,\"ticks\":\"\"}},\"marker\":{\"colorbar\":{\"outlinewidth\":0,\"ticks\":\"\"}}}],\"scattermapbox\":[{\"type\":\"scattermapbox\",\"marker\":{\"colorbar\":{\"outlinewidth\":0,\"ticks\":\"\"}}}],\"scatterternary\":[{\"type\":\"scatterternary\",\"marker\":{\"colorbar\":{\"outlinewidth\":0,\"ticks\":\"\"}}}],\"scattercarpet\":[{\"type\":\"scattercarpet\",\"marker\":{\"colorbar\":{\"outlinewidth\":0,\"ticks\":\"\"}}}],\"carpet\":[{\"aaxis\":{\"endlinecolor\":\"#2a3f5f\",\"gridcolor\":\"white\",\"linecolor\":\"white\",\"minorgridcolor\":\"white\",\"startlinecolor\":\"#2a3f5f\"},\"baxis\":{\"endlinecolor\":\"#2a3f5f\",\"gridcolor\":\"white\",\"linecolor\":\"white\",\"minorgridcolor\":\"white\",\"startlinecolor\":\"#2a3f5f\"},\"type\":\"carpet\"}],\"table\":[{\"cells\":{\"fill\":{\"color\":\"#EBF0F8\"},\"line\":{\"color\":\"white\"}},\"header\":{\"fill\":{\"color\":\"#C8D4E3\"},\"line\":{\"color\":\"white\"}},\"type\":\"table\"}],\"barpolar\":[{\"marker\":{\"line\":{\"color\":\"#E5ECF6\",\"width\":0.5},\"pattern\":{\"fillmode\":\"overlay\",\"size\":10,\"solidity\":0.2}},\"type\":\"barpolar\"}],\"pie\":[{\"automargin\":true,\"type\":\"pie\"}]},\"layout\":{\"autotypenumbers\":\"strict\",\"colorway\":[\"#636efa\",\"#EF553B\",\"#00cc96\",\"#ab63fa\",\"#FFA15A\",\"#19d3f3\",\"#FF6692\",\"#B6E880\",\"#FF97FF\",\"#FECB52\"],\"font\":{\"color\":\"#2a3f5f\"},\"hovermode\":\"closest\",\"hoverlabel\":{\"align\":\"left\"},\"paper_bgcolor\":\"white\",\"plot_bgcolor\":\"#E5ECF6\",\"polar\":{\"bgcolor\":\"#E5ECF6\",\"angularaxis\":{\"gridcolor\":\"white\",\"linecolor\":\"white\",\"ticks\":\"\"},\"radialaxis\":{\"gridcolor\":\"white\",\"linecolor\":\"white\",\"ticks\":\"\"}},\"ternary\":{\"bgcolor\":\"#E5ECF6\",\"aaxis\":{\"gridcolor\":\"white\",\"linecolor\":\"white\",\"ticks\":\"\"},\"baxis\":{\"gridcolor\":\"white\",\"linecolor\":\"white\",\"ticks\":\"\"},\"caxis\":{\"gridcolor\":\"white\",\"linecolor\":\"white\",\"ticks\":\"\"}},\"coloraxis\":{\"colorbar\":{\"outlinewidth\":0,\"ticks\":\"\"}},\"colorscale\":{\"sequential\":[[0.0,\"#0d0887\"],[0.1111111111111111,\"#46039f\"],[0.2222222222222222,\"#7201a8\"],[0.3333333333333333,\"#9c179e\"],[0.4444444444444444,\"#bd3786\"],[0.5555555555555556,\"#d8576b\"],[0.6666666666666666,\"#ed7953\"],[0.7777777777777778,\"#fb9f3a\"],[0.8888888888888888,\"#fdca26\"],[1.0,\"#f0f921\"]],\"sequentialminus\":[[0.0,\"#0d0887\"],[0.1111111111111111,\"#46039f\"],[0.2222222222222222,\"#7201a8\"],[0.3333333333333333,\"#9c179e\"],[0.4444444444444444,\"#bd3786\"],[0.5555555555555556,\"#d8576b\"],[0.6666666666666666,\"#ed7953\"],[0.7777777777777778,\"#fb9f3a\"],[0.8888888888888888,\"#fdca26\"],[1.0,\"#f0f921\"]],\"diverging\":[[0,\"#8e0152\"],[0.1,\"#c51b7d\"],[0.2,\"#de77ae\"],[0.3,\"#f1b6da\"],[0.4,\"#fde0ef\"],[0.5,\"#f7f7f7\"],[0.6,\"#e6f5d0\"],[0.7,\"#b8e186\"],[0.8,\"#7fbc41\"],[0.9,\"#4d9221\"],[1,\"#276419\"]]},\"xaxis\":{\"gridcolor\":\"white\",\"linecolor\":\"white\",\"ticks\":\"\",\"title\":{\"standoff\":15},\"zerolinecolor\":\"white\",\"automargin\":true,\"zerolinewidth\":2},\"yaxis\":{\"gridcolor\":\"white\",\"linecolor\":\"white\",\"ticks\":\"\",\"title\":{\"standoff\":15},\"zerolinecolor\":\"white\",\"automargin\":true,\"zerolinewidth\":2},\"scene\":{\"xaxis\":{\"backgroundcolor\":\"#E5ECF6\",\"gridcolor\":\"white\",\"linecolor\":\"white\",\"showbackground\":true,\"ticks\":\"\",\"zerolinecolor\":\"white\",\"gridwidth\":2},\"yaxis\":{\"backgroundcolor\":\"#E5ECF6\",\"gridcolor\":\"white\",\"linecolor\":\"white\",\"showbackground\":true,\"ticks\":\"\",\"zerolinecolor\":\"white\",\"gridwidth\":2},\"zaxis\":{\"backgroundcolor\":\"#E5ECF6\",\"gridcolor\":\"white\",\"linecolor\":\"white\",\"showbackground\":true,\"ticks\":\"\",\"zerolinecolor\":\"white\",\"gridwidth\":2}},\"shapedefaults\":{\"line\":{\"color\":\"#2a3f5f\"}},\"annotationdefaults\":{\"arrowcolor\":\"#2a3f5f\",\"arrowhead\":0,\"arrowwidth\":1},\"geo\":{\"bgcolor\":\"white\",\"landcolor\":\"#E5ECF6\",\"subunitcolor\":\"white\",\"showland\":true,\"showlakes\":true,\"lakecolor\":\"white\"},\"title\":{\"x\":0.05},\"mapbox\":{\"style\":\"light\"}}}},                        {\"responsive\": true}                    ).then(function(){\n",
       "                            \n",
       "var gd = document.getElementById('89bb2793-f7a6-4281-b91b-73a0bf63876f');\n",
       "var x = new MutationObserver(function (mutations, observer) {{\n",
       "        var display = window.getComputedStyle(gd).display;\n",
       "        if (!display || display === 'none') {{\n",
       "            console.log([gd, 'removed!']);\n",
       "            Plotly.purge(gd);\n",
       "            observer.disconnect();\n",
       "        }}\n",
       "}});\n",
       "\n",
       "// Listen for the removal of the full notebook cells\n",
       "var notebookContainer = gd.closest('#notebook-container');\n",
       "if (notebookContainer) {{\n",
       "    x.observe(notebookContainer, {childList: true});\n",
       "}}\n",
       "\n",
       "// Listen for the clearing of the current output cell\n",
       "var outputEl = gd.closest('.output');\n",
       "if (outputEl) {{\n",
       "    x.observe(outputEl, {childList: true});\n",
       "}}\n",
       "\n",
       "                        })                };                });            </script>        </div>"
      ]
     },
     "metadata": {},
     "output_type": "display_data"
    }
   ],
   "source": [
    "i_ct = cumulative_trapezoid(X[0,0])\n",
    "\n",
    "lines=[i_ct,X[0,0]]\n",
    "\n",
    "t = np.linspace(0,127,128)\n",
    "\n",
    "fig = go.Figure()\n",
    "fig.add_trace(go.Line(x=t,y=lines[0],name=f'cumulative trapezoid'))\n",
    "\n",
    "fig.add_trace(go.Line(x=t,y=lines[1],name=f'original signal'))\n",
    "\n",
    "fig.show()"
   ]
  },
  {
   "cell_type": "markdown",
   "id": "acb5c6db",
   "metadata": {
    "papermill": {
     "duration": 0.010611,
     "end_time": "2022-12-30T21:06:28.282216",
     "exception": false,
     "start_time": "2022-12-30T21:06:28.271605",
     "status": "completed"
    },
    "tags": []
   },
   "source": [
    "# Creating Feature Spaces"
   ]
  },
  {
   "cell_type": "markdown",
   "id": "d161fa1e",
   "metadata": {
    "papermill": {
     "duration": 0.010676,
     "end_time": "2022-12-30T21:06:28.304228",
     "exception": false,
     "start_time": "2022-12-30T21:06:28.293552",
     "status": "completed"
    },
    "tags": []
   },
   "source": [
    "Possible feature spaces:\n",
    "\n",
    "1. raw signal\n",
    "2. derivative\n",
    "3. integration\n",
    "4. raw and derivative\n",
    "5. raw and integration\n",
    "6. derivative and integration\n",
    "7. raw and derivative and integration\n"
   ]
  },
  {
   "cell_type": "code",
   "execution_count": 7,
   "id": "694cd300",
   "metadata": {
    "execution": {
     "iopub.execute_input": "2022-12-30T21:06:28.328189Z",
     "iopub.status.busy": "2022-12-30T21:06:28.327476Z",
     "iopub.status.idle": "2022-12-30T21:06:45.124510Z",
     "shell.execute_reply": "2022-12-30T21:06:45.122211Z"
    },
    "papermill": {
     "duration": 16.815272,
     "end_time": "2022-12-30T21:06:45.130644",
     "exception": false,
     "start_time": "2022-12-30T21:06:28.315372",
     "status": "completed"
    },
    "tags": []
   },
   "outputs": [
    {
     "name": "stdout",
     "output_type": "stream",
     "text": [
      "Shapes\n",
      "X_raw: (1200000, 2, 128)\n",
      "X_diff: (1200000, 2, 128)\n",
      "X_int: (1200000, 2, 128)\n",
      "\n",
      "X_raw_diff: (1200000, 4, 128)\n",
      "X_raw_int: (1200000, 4, 128)\n",
      "X_diff_int: (1200000, 4, 128)\n",
      "\n",
      "X_all: (1200000, 6, 128)\n"
     ]
    }
   ],
   "source": [
    "X_raw = X\n",
    "X_diff = np.gradient(X,axis=-1)\n",
    "X_int = np.zeros_like(X)\n",
    "X_int[:,:,:-1] = np.array(cumulative_trapezoid(X))\n",
    "\n",
    "X_raw_diff = np.concatenate((X_raw,X_diff),axis=1)\n",
    "X_raw_int = np.concatenate((X_raw,X_int),axis=1)\n",
    "X_diff_int = np.concatenate((X_diff,X_int),axis=1)\n",
    "\n",
    "X_all = np.concatenate((X_raw,X_diff,X_int),axis=1)\n",
    "\n",
    "print(f'\\\n",
    "Shapes\\n\\\n",
    "X_raw: {X_raw.shape}\\n\\\n",
    "X_diff: {X_diff.shape}\\n\\\n",
    "X_int: {X_int.shape}\\n\\n\\\n",
    "X_raw_diff: {X_raw_diff.shape}\\n\\\n",
    "X_raw_int: {X_raw_int.shape}\\n\\\n",
    "X_diff_int: {X_diff_int.shape}\\n\\n\\\n",
    "X_all: {X_all.shape}')"
   ]
  },
  {
   "cell_type": "code",
   "execution_count": 8,
   "id": "692ca21b",
   "metadata": {
    "execution": {
     "iopub.execute_input": "2022-12-30T21:06:45.154853Z",
     "iopub.status.busy": "2022-12-30T21:06:45.154309Z",
     "iopub.status.idle": "2022-12-30T21:06:45.280448Z",
     "shell.execute_reply": "2022-12-30T21:06:45.278991Z"
    },
    "papermill": {
     "duration": 0.141428,
     "end_time": "2022-12-30T21:06:45.283717",
     "exception": false,
     "start_time": "2022-12-30T21:06:45.142289",
     "status": "completed"
    },
    "tags": []
   },
   "outputs": [],
   "source": [
    "del X_diff\n",
    "del X_int\n",
    "\n",
    "del X_raw_diff\n",
    "del X_raw_int\n",
    "del X_diff_int\n",
    "\n",
    "del X_all"
   ]
  },
  {
   "cell_type": "code",
   "execution_count": 9,
   "id": "09331266",
   "metadata": {
    "execution": {
     "iopub.execute_input": "2022-12-30T21:06:45.305959Z",
     "iopub.status.busy": "2022-12-30T21:06:45.305302Z",
     "iopub.status.idle": "2022-12-30T21:06:46.625982Z",
     "shell.execute_reply": "2022-12-30T21:06:46.624609Z"
    },
    "papermill": {
     "duration": 1.335134,
     "end_time": "2022-12-30T21:06:46.628815",
     "exception": false,
     "start_time": "2022-12-30T21:06:45.293681",
     "status": "completed"
    },
    "tags": []
   },
   "outputs": [],
   "source": [
    "import gc\n",
    "for _ in range(5):\n",
    "    gc.collect()"
   ]
  },
  {
   "cell_type": "markdown",
   "id": "5829da6a",
   "metadata": {
    "papermill": {
     "duration": 0.009732,
     "end_time": "2022-12-30T21:06:46.648660",
     "exception": false,
     "start_time": "2022-12-30T21:06:46.638928",
     "status": "completed"
    },
    "tags": []
   },
   "source": [
    "# Data Splitting"
   ]
  },
  {
   "cell_type": "code",
   "execution_count": 10,
   "id": "978ea711",
   "metadata": {
    "execution": {
     "iopub.execute_input": "2022-12-30T21:06:46.671312Z",
     "iopub.status.busy": "2022-12-30T21:06:46.669990Z",
     "iopub.status.idle": "2022-12-30T21:06:46.678027Z",
     "shell.execute_reply": "2022-12-30T21:06:46.677014Z"
    },
    "papermill": {
     "duration": 0.02167,
     "end_time": "2022-12-30T21:06:46.680711",
     "exception": false,
     "start_time": "2022-12-30T21:06:46.659041",
     "status": "completed"
    },
    "tags": []
   },
   "outputs": [],
   "source": [
    "def split(x,y):\n",
    "    x_train, x_test, y_train, y_test = train_test_split(x, y, test_size = 0.3, random_state =1, stratify = y[:,0])\n",
    "    x_train, x_val, y_train, y_val = train_test_split(x_train, y_train, test_size = 0.05, random_state =1, stratify = y_train[:,0])\n",
    "    return x_train, x_val, x_test, y_train, y_val, y_test"
   ]
  },
  {
   "cell_type": "markdown",
   "id": "126a4023",
   "metadata": {
    "papermill": {
     "duration": 0.009487,
     "end_time": "2022-12-30T21:06:46.700270",
     "exception": false,
     "start_time": "2022-12-30T21:06:46.690783",
     "status": "completed"
    },
    "tags": []
   },
   "source": [
    "# Models"
   ]
  },
  {
   "cell_type": "markdown",
   "id": "8f11fdae",
   "metadata": {
    "papermill": {
     "duration": 0.009491,
     "end_time": "2022-12-30T21:06:46.720016",
     "exception": false,
     "start_time": "2022-12-30T21:06:46.710525",
     "status": "completed"
    },
    "tags": []
   },
   "source": [
    "## Hyperparameters"
   ]
  },
  {
   "cell_type": "code",
   "execution_count": 11,
   "id": "95ee5b97",
   "metadata": {
    "execution": {
     "iopub.execute_input": "2022-12-30T21:06:46.744358Z",
     "iopub.status.busy": "2022-12-30T21:06:46.742806Z",
     "iopub.status.idle": "2022-12-30T21:06:46.749361Z",
     "shell.execute_reply": "2022-12-30T21:06:46.748307Z"
    },
    "papermill": {
     "duration": 0.021402,
     "end_time": "2022-12-30T21:06:46.752164",
     "exception": false,
     "start_time": "2022-12-30T21:06:46.730762",
     "status": "completed"
    },
    "tags": []
   },
   "outputs": [],
   "source": [
    "EPOCHS = 100\n",
    "PATIENCE = 5\n",
    "LEARNING_RATE = 0.001"
   ]
  },
  {
   "attachments": {
    "758a75ae-0bbe-4734-922a-fa93f313bddd.png": {
     "image/png": "[encoded data removed]"
    }
   },
   "cell_type": "markdown",
   "id": "25160788",
   "metadata": {
    "papermill": {
     "duration": 0.009522,
     "end_time": "2022-12-30T21:06:46.771810",
     "exception": false,
     "start_time": "2022-12-30T21:06:46.762288",
     "status": "completed"
    },
    "tags": []
   },
   "source": [
    "## CNN model\n",
    "![image.png](attachment:758a75ae-0bbe-4734-922a-fa93f313bddd.png)"
   ]
  },
  {
   "cell_type": "code",
   "execution_count": 12,
   "id": "926ad26a",
   "metadata": {
    "execution": {
     "iopub.execute_input": "2022-12-30T21:06:46.793763Z",
     "iopub.status.busy": "2022-12-30T21:06:46.792666Z",
     "iopub.status.idle": "2022-12-30T21:06:47.015022Z",
     "shell.execute_reply": "2022-12-30T21:06:47.014004Z"
    },
    "papermill": {
     "duration": 0.235923,
     "end_time": "2022-12-30T21:06:47.017604",
     "exception": false,
     "start_time": "2022-12-30T21:06:46.781681",
     "status": "completed"
    },
    "tags": []
   },
   "outputs": [
    {
     "name": "stdout",
     "output_type": "stream",
     "text": [
      "Model: \"cnn_2_ch\"\n",
      "_________________________________________________________________\n",
      "Layer (type)                 Output Shape              Param #   \n",
      "=================================================================\n",
      "conv2d (Conv2D)              (None, 2, 128, 64)        640       \n",
      "_________________________________________________________________\n",
      "conv2d_1 (Conv2D)            (None, 1, 64, 16)         9232      \n",
      "_________________________________________________________________\n",
      "flatten (Flatten)            (None, 1024)              0         \n",
      "_________________________________________________________________\n",
      "dense (Dense)                (None, 128)               131200    \n",
      "_________________________________________________________________\n",
      "dense_1 (Dense)              (None, 11)                1419      \n",
      "=================================================================\n",
      "Total params: 142,491\n",
      "Trainable params: 142,491\n",
      "Non-trainable params: 0\n",
      "_________________________________________________________________\n"
     ]
    },
    {
     "name": "stderr",
     "output_type": "stream",
     "text": [
      "2022-12-30 21:06:46.869448: I tensorflow/core/common_runtime/process_util.cc:146] Creating new thread pool with default inter op setting: 2. Tune using inter_op_parallelism_threads for best performance.\n",
      "/opt/conda/lib/python3.7/site-packages/keras/optimizer_v2/optimizer_v2.py:356: UserWarning:\n",
      "\n",
      "The `lr` argument is deprecated, use `learning_rate` instead.\n",
      "\n"
     ]
    }
   ],
   "source": [
    "cnn_input_shape = X_raw.shape[1:] + (1,)\n",
    "\n",
    "cnn_model = keras.Sequential([\n",
    "    layers.Conv2D(64,\n",
    "                kernel_size=3,\n",
    "                activation='relu',\n",
    "                  padding='same',\n",
    "                input_shape=cnn_input_shape),\n",
    "    layers.Conv2D(16,\n",
    "                 kernel_size=3,\n",
    "                  strides=2,\n",
    "                  padding='same',\n",
    "                 activation='relu'),\n",
    "    layers.Flatten(),\n",
    "    layers.Dense(128,activation='relu'),\n",
    "    layers.Dense(11,activation='softmax'),\n",
    "],name='cnn_2_ch')\n",
    "\n",
    "optimizer = keras.optimizers.Adam(lr=LEARNING_RATE)\n",
    "loss = keras.losses.CategoricalCrossentropy()\n",
    "cnn_model.compile(optimizer=optimizer,loss=loss,metrics=['accuracy'])\n",
    "\n",
    "cnn_model.summary()\n",
    "# TODO: questions: \n",
    "# is it conv1D\n",
    "# 1. Padding?\n",
    "# 2. what is x1  and x2 in 2nd and 3rd layer? kernel size or number of Conv?"
   ]
  },
  {
   "cell_type": "code",
   "execution_count": 13,
   "id": "4916833b",
   "metadata": {
    "execution": {
     "iopub.execute_input": "2022-12-30T21:06:47.041209Z",
     "iopub.status.busy": "2022-12-30T21:06:47.040003Z",
     "iopub.status.idle": "2022-12-30T21:06:47.050477Z",
     "shell.execute_reply": "2022-12-30T21:06:47.049007Z"
    },
    "papermill": {
     "duration": 0.025569,
     "end_time": "2022-12-30T21:06:47.053384",
     "exception": false,
     "start_time": "2022-12-30T21:06:47.027815",
     "status": "completed"
    },
    "tags": []
   },
   "outputs": [],
   "source": [
    "values = np.arange(0.000001,0.0003,0.00005)[::-1]\n",
    "boundaries = np.arange(5, 100,5)[:values.shape[0]-1]\n",
    "\n",
    "\n",
    "scheduler = keras.optimizers.schedules.PiecewiseConstantDecay(\n",
    "    list(boundaries), list(values))\n",
    "\n",
    "lrscheduler = tf.keras.callbacks.LearningRateScheduler(scheduler,verbose=1)\n",
    "\n",
    "early_stopping = keras.callbacks.EarlyStopping(monitor='val_loss', patience = PATIENCE, mode='min')\n",
    "\n",
    "\n",
    "def configure_checkpoints(path):\n",
    "\n",
    "    return keras.callbacks.ModelCheckpoint(\n",
    "        filepath=path,\n",
    "        save_weights_only=True,\n",
    "        monitor='val_loss',\n",
    "        mode='min',\n",
    "        save_best_only=True)\n",
    "    \n"
   ]
  },
  {
   "cell_type": "code",
   "execution_count": 14,
   "id": "20792e69",
   "metadata": {
    "execution": {
     "iopub.execute_input": "2022-12-30T21:06:47.076658Z",
     "iopub.status.busy": "2022-12-30T21:06:47.076220Z",
     "iopub.status.idle": "2022-12-30T21:06:47.088181Z",
     "shell.execute_reply": "2022-12-30T21:06:47.086755Z"
    },
    "papermill": {
     "duration": 0.026534,
     "end_time": "2022-12-30T21:06:47.090819",
     "exception": false,
     "start_time": "2022-12-30T21:06:47.064285",
     "status": "completed"
    },
    "tags": []
   },
   "outputs": [],
   "source": [
    "def train_and_plot(model,checkpoint_path,x_train,y_train,x_val,y_val,epochs=EPOCHS):\n",
    "    checkpoint = configure_checkpoints(checkpoint_path)\n",
    "    history=model.fit(\n",
    "        x=np.array(x_train),\n",
    "        y=y_train,\n",
    "        epochs=epochs,\n",
    "        validation_data=(np.array(x_val),y_val),\n",
    "        callbacks=[checkpoint,early_stopping]\n",
    "    )\n",
    "\n",
    "    num=len(history.history['loss'])\n",
    "\n",
    "    plt.plot(range(num),history.history['loss'],label = 'training loss')\n",
    "    plt.plot(range(num),history.history['val_loss'],label = 'validation loss')\n",
    "\n",
    "    plt.legend()\n",
    "\n",
    "    plt.xlabel(\"Epochs \")\n",
    "    plt.ylabel('Loss')\n",
    "\n",
    "    plt.figure()\n",
    "\n",
    "    plt.plot(range(num),history.history['accuracy'],label = 'training accuracy')\n",
    "    plt.plot(range(num),history.history['val_accuracy'],label = 'validation accuracy')\n",
    "\n",
    "    plt.legend()\n",
    "    plt.xlabel(\"Epochs \")\n",
    "    return history"
   ]
  },
  {
   "cell_type": "code",
   "execution_count": 15,
   "id": "2501deee",
   "metadata": {
    "execution": {
     "iopub.execute_input": "2022-12-30T21:06:47.112954Z",
     "iopub.status.busy": "2022-12-30T21:06:47.112458Z",
     "iopub.status.idle": "2022-12-30T21:06:51.299199Z",
     "shell.execute_reply": "2022-12-30T21:06:51.297929Z"
    },
    "papermill": {
     "duration": 4.200954,
     "end_time": "2022-12-30T21:06:51.301999",
     "exception": false,
     "start_time": "2022-12-30T21:06:47.101045",
     "status": "completed"
    },
    "tags": []
   },
   "outputs": [],
   "source": [
    "x_train, x_val, x_test, y_train, y_val, y_test = split(X_raw,y)"
   ]
  },
  {
   "cell_type": "code",
   "execution_count": 16,
   "id": "61e93344",
   "metadata": {
    "execution": {
     "iopub.execute_input": "2022-12-30T21:06:51.325031Z",
     "iopub.status.busy": "2022-12-30T21:06:51.324577Z",
     "iopub.status.idle": "2022-12-30T21:06:51.348720Z",
     "shell.execute_reply": "2022-12-30T21:06:51.347213Z"
    },
    "papermill": {
     "duration": 0.038908,
     "end_time": "2022-12-30T21:06:51.351367",
     "exception": false,
     "start_time": "2022-12-30T21:06:51.312459",
     "status": "completed"
    },
    "tags": []
   },
   "outputs": [
    {
     "data": {
      "text/plain": [
       "((360000,), (360001,))"
      ]
     },
     "execution_count": 16,
     "metadata": {},
     "output_type": "execute_result"
    }
   ],
   "source": [
    "y_test[:,0].shape,np.concatenate((y_test[:,0],np.array([\"None\"]))).shape"
   ]
  },
  {
   "cell_type": "code",
   "execution_count": 17,
   "id": "3420b804",
   "metadata": {
    "execution": {
     "iopub.execute_input": "2022-12-30T21:06:51.373857Z",
     "iopub.status.busy": "2022-12-30T21:06:51.373438Z",
     "iopub.status.idle": "2022-12-30T21:06:51.935674Z",
     "shell.execute_reply": "2022-12-30T21:06:51.934217Z"
    },
    "papermill": {
     "duration": 0.576465,
     "end_time": "2022-12-30T21:06:51.938187",
     "exception": false,
     "start_time": "2022-12-30T21:06:51.361722",
     "status": "completed"
    },
    "tags": []
   },
   "outputs": [
    {
     "data": {
      "text/plain": [
       "(360000, 11)"
      ]
     },
     "execution_count": 17,
     "metadata": {},
     "output_type": "execute_result"
    }
   ],
   "source": [
    "encoder = OneHotEncoder(sparse=False)\n",
    "encoder.fit(np.concatenate((y_test[:,0],np.array([\"None\"]))).reshape(-1,1))\n",
    "y_test_encoded = encoder.transform(y_test[:,0].reshape(-1,1))\n",
    "y_test_encoded.shape"
   ]
  },
  {
   "cell_type": "code",
   "execution_count": 18,
   "id": "459526d4",
   "metadata": {
    "execution": {
     "iopub.execute_input": "2022-12-30T21:06:51.961734Z",
     "iopub.status.busy": "2022-12-30T21:06:51.961337Z",
     "iopub.status.idle": "2022-12-30T21:06:52.824445Z",
     "shell.execute_reply": "2022-12-30T21:06:52.823276Z"
    },
    "papermill": {
     "duration": 0.878424,
     "end_time": "2022-12-30T21:06:52.827239",
     "exception": false,
     "start_time": "2022-12-30T21:06:51.948815",
     "status": "completed"
    },
    "tags": []
   },
   "outputs": [],
   "source": [
    "y_train_encoded = encoder.transform(y_train[:,0].reshape(-1,1))\n",
    "y_val_encoded = encoder.transform(y_val[:,0].reshape(-1,1))"
   ]
  },
  {
   "cell_type": "code",
   "execution_count": 19,
   "id": "6b67efef",
   "metadata": {
    "execution": {
     "iopub.execute_input": "2022-12-30T21:06:52.851100Z",
     "iopub.status.busy": "2022-12-30T21:06:52.850650Z",
     "iopub.status.idle": "2022-12-30T21:06:52.996273Z",
     "shell.execute_reply": "2022-12-30T21:06:52.994945Z"
    },
    "papermill": {
     "duration": 0.161004,
     "end_time": "2022-12-30T21:06:52.999435",
     "exception": false,
     "start_time": "2022-12-30T21:06:52.838431",
     "status": "completed"
    },
    "tags": []
   },
   "outputs": [
    {
     "data": {
      "text/plain": [
       "(array([[0., 0., 0., 0., 0., 0., 0., 0., 0., 0., 1.],\n",
       "        [0., 0., 0., 0., 0., 0., 0., 0., 0., 1., 0.],\n",
       "        [0., 0., 0., 0., 0., 0., 0., 0., 1., 0., 0.],\n",
       "        [0., 0., 0., 0., 0., 0., 0., 1., 0., 0., 0.],\n",
       "        [0., 0., 0., 0., 0., 0., 1., 0., 0., 0., 0.],\n",
       "        [0., 0., 0., 0., 1., 0., 0., 0., 0., 0., 0.],\n",
       "        [0., 0., 0., 1., 0., 0., 0., 0., 0., 0., 0.],\n",
       "        [0., 0., 1., 0., 0., 0., 0., 0., 0., 0., 0.],\n",
       "        [0., 1., 0., 0., 0., 0., 0., 0., 0., 0., 0.],\n",
       "        [1., 0., 0., 0., 0., 0., 0., 0., 0., 0., 0.]]),\n",
       " array([4200, 4200, 4200, 4200, 4200, 4200, 4200, 4200, 4200, 4200]))"
      ]
     },
     "execution_count": 19,
     "metadata": {},
     "output_type": "execute_result"
    }
   ],
   "source": [
    "np.unique(y_val_encoded,axis=0,return_counts=True)"
   ]
  },
  {
   "cell_type": "code",
   "execution_count": 20,
   "id": "43b70b07",
   "metadata": {
    "execution": {
     "iopub.execute_input": "2022-12-30T21:06:53.022487Z",
     "iopub.status.busy": "2022-12-30T21:06:53.022044Z",
     "iopub.status.idle": "2022-12-30T22:19:18.370736Z",
     "shell.execute_reply": "2022-12-30T22:19:18.369240Z"
    },
    "papermill": {
     "duration": 4350.606991,
     "end_time": "2022-12-30T22:19:23.617005",
     "exception": false,
     "start_time": "2022-12-30T21:06:53.010014",
     "status": "completed"
    },
    "tags": []
   },
   "outputs": [
    {
     "name": "stderr",
     "output_type": "stream",
     "text": [
      "2022-12-30 21:06:55.054042: I tensorflow/compiler/mlir/mlir_graph_optimization_pass.cc:185] None of the MLIR Optimization Passes are enabled (registered 2)\n"
     ]
    },
    {
     "name": "stdout",
     "output_type": "stream",
     "text": [
      "Epoch 1/100\n",
      "24938/24938 [==============================] - 213s 8ms/step - loss: 1.3535 - accuracy: 0.4498 - val_loss: 1.1612 - val_accuracy: 0.5190\n",
      "Epoch 2/100\n",
      "24938/24938 [==============================] - 216s 9ms/step - loss: 1.1469 - accuracy: 0.5221 - val_loss: 1.1270 - val_accuracy: 0.5342\n",
      "Epoch 3/100\n",
      "24938/24938 [==============================] - 219s 9ms/step - loss: 1.1233 - accuracy: 0.5313 - val_loss: 1.1145 - val_accuracy: 0.5339\n",
      "Epoch 4/100\n",
      "24938/24938 [==============================] - 216s 9ms/step - loss: 1.1028 - accuracy: 0.5384 - val_loss: 1.0962 - val_accuracy: 0.5420\n",
      "Epoch 5/100\n",
      "24938/24938 [==============================] - 212s 8ms/step - loss: 1.0887 - accuracy: 0.5436 - val_loss: 1.0969 - val_accuracy: 0.5370\n",
      "Epoch 6/100\n",
      "24938/24938 [==============================] - 214s 9ms/step - loss: 1.0786 - accuracy: 0.5468 - val_loss: 1.0891 - val_accuracy: 0.5401\n",
      "Epoch 7/100\n",
      "24938/24938 [==============================] - 212s 9ms/step - loss: 1.0693 - accuracy: 0.5507 - val_loss: 1.0854 - val_accuracy: 0.5458\n",
      "Epoch 8/100\n",
      "24938/24938 [==============================] - 215s 9ms/step - loss: 1.0620 - accuracy: 0.5531 - val_loss: 1.0766 - val_accuracy: 0.5430\n",
      "Epoch 9/100\n",
      "24938/24938 [==============================] - 210s 8ms/step - loss: 1.0571 - accuracy: 0.5547 - val_loss: 1.0741 - val_accuracy: 0.5494\n",
      "Epoch 10/100\n",
      "24938/24938 [==============================] - 221s 9ms/step - loss: 1.0534 - accuracy: 0.5569 - val_loss: 1.0785 - val_accuracy: 0.5479\n",
      "Epoch 11/100\n",
      "24938/24938 [==============================] - 213s 9ms/step - loss: 1.0499 - accuracy: 0.5584 - val_loss: 1.0708 - val_accuracy: 0.5447\n",
      "Epoch 12/100\n",
      "24938/24938 [==============================] - 216s 9ms/step - loss: 1.0467 - accuracy: 0.5599 - val_loss: 1.0720 - val_accuracy: 0.5444\n",
      "Epoch 13/100\n",
      "24938/24938 [==============================] - 213s 9ms/step - loss: 1.0437 - accuracy: 0.5616 - val_loss: 1.0716 - val_accuracy: 0.5452\n",
      "Epoch 14/100\n",
      "24938/24938 [==============================] - 214s 9ms/step - loss: 1.0412 - accuracy: 0.5628 - val_loss: 1.0754 - val_accuracy: 0.5543\n",
      "Epoch 15/100\n",
      "24938/24938 [==============================] - 211s 8ms/step - loss: 1.0392 - accuracy: 0.5641 - val_loss: 1.0691 - val_accuracy: 0.5485\n",
      "Epoch 16/100\n",
      "24938/24938 [==============================] - 217s 9ms/step - loss: 1.0368 - accuracy: 0.5653 - val_loss: 1.0711 - val_accuracy: 0.5526\n",
      "Epoch 17/100\n",
      "24938/24938 [==============================] - 210s 8ms/step - loss: 1.0348 - accuracy: 0.5665 - val_loss: 1.0718 - val_accuracy: 0.5457\n",
      "Epoch 18/100\n",
      "24938/24938 [==============================] - 214s 9ms/step - loss: 1.0328 - accuracy: 0.5673 - val_loss: 1.0737 - val_accuracy: 0.5510\n",
      "Epoch 19/100\n",
      "24938/24938 [==============================] - 212s 9ms/step - loss: 1.0309 - accuracy: 0.5689 - val_loss: 1.0767 - val_accuracy: 0.5542\n",
      "Epoch 20/100\n",
      "24938/24938 [==============================] - 217s 9ms/step - loss: 1.0292 - accuracy: 0.5698 - val_loss: 1.0736 - val_accuracy: 0.5490\n"
     ]
    },
    {
     "data": {
      "image/png": "[encoded data removed]",
      "text/plain": [
       "<Figure size 432x288 with 1 Axes>"
      ]
     },
     "metadata": {
      "needs_background": "light"
     },
     "output_type": "display_data"
    },
    {
     "data": {
      "image/png": "[encoded data removed]",
      "text/plain": [
       "<Figure size 432x288 with 1 Axes>"
      ]
     },
     "metadata": {
      "needs_background": "light"
     },
     "output_type": "display_data"
    }
   ],
   "source": [
    "cnn_history = train_and_plot(\n",
    "    cnn_model,\n",
    "    \"/kaggle/working/checkpoints/cnn\",\n",
    "    x_train.reshape(x_train.shape+(1,)),\n",
    "    y_train_encoded,\n",
    "    x_val.reshape(x_val.shape+(1,)),\n",
    "    y_val_encoded,\n",
    "    epochs=EPOCHS\n",
    ")"
   ]
  }
 ],
 "metadata": {
  "kernelspec": {
   "display_name": "Python 3",
   "language": "python",
   "name": "python3"
  },
  "language_info": {
   "codemirror_mode": {
    "name": "ipython",
    "version": 3
   },
   "file_extension": ".py",
   "mimetype": "text/x-python",
   "name": "python",
   "nbconvert_exporter": "python",
   "pygments_lexer": "ipython3",
   "version": "3.7.12"
  },
  "papermill": {
   "default_parameters": {},
   "duration": 4469.244697,
   "end_time": "2022-12-30T22:19:32.358610",
   "environment_variables": {},
   "exception": null,
   "input_path": "__notebook__.ipynb",
   "output_path": "__notebook__.ipynb",
   "parameters": {},
   "start_time": "2022-12-30T21:05:03.113913",
   "version": "2.3.4"
  }
 },
 "nbformat": 4,
 "nbformat_minor": 5
}
