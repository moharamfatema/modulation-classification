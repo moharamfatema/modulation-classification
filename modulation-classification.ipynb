{
 "cells": [
  {
   "cell_type": "code",
   "execution_count": 1,
   "id": "081bac04",
   "metadata": {
    "execution": {
     "iopub.execute_input": "2022-12-27T22:35:21.864162Z",
     "iopub.status.busy": "2022-12-27T22:35:21.863655Z",
     "iopub.status.idle": "2022-12-27T22:35:21.880056Z",
     "shell.execute_reply": "2022-12-27T22:35:21.878696Z"
    },
    "papermill": {
     "duration": 0.024043,
     "end_time": "2022-12-27T22:35:21.882706",
     "exception": false,
     "start_time": "2022-12-27T22:35:21.858663",
     "status": "completed"
    },
    "tags": []
   },
   "outputs": [
    {
     "data": {
      "text/plain": [
       "'\\n# ! wget -P /content/drive/MyDrive/datasets/deepsig https://f002.backblazeb2.com/file/deepsig-datasets/2016.10/RML2016.10b.tar.bz2?Authorization=3_20221227213905_2c795ffc54e9046c69c5217c_469e51be5cab6f465d8a532240da083f077ea3dc_002_20221227223905_0027_dnld\\n# ! mv /content/drive/MyDrive/datasets/deepsig/RML2016.10b.tar.bz2?Authorization=3_20221227213905_2c795ffc54e9046c69c5217c_469e51be5cab6f465d8a532240da083f077ea3dc_002_20221227223905_0027_dnld /content/drive/MyDrive/datasets/deepsig/RML2016.10b.tar.bz2\\n# ! tar -xvf /content/drive/MyDrive/datasets/deepsig/RML2016.10b.tar.bz2 -C /content/drive/MyDrive/datasets/deepsig/RML2016.10b\\n# ! rm /content/drive/MyDrive/datasets/deepsig/RML2016.10b.tar.bz2\\n'"
      ]
     },
     "execution_count": 1,
     "metadata": {},
     "output_type": "execute_result"
    }
   ],
   "source": [
    "# To download and untar the dataset in colab:\n",
    "\n",
    "'''\n",
    "# ! wget -P /content/drive/MyDrive/datasets/deepsig https://f002.backblazeb2.com/file/deepsig-datasets/2016.10/RML2016.10b.tar.bz2?Authorization=3_20221227213905_2c795ffc54e9046c69c5217c_469e51be5cab6f465d8a532240da083f077ea3dc_002_20221227223905_0027_dnld\n",
    "# ! mv /content/drive/MyDrive/datasets/deepsig/RML2016.10b.tar.bz2?Authorization=3_20221227213905_2c795ffc54e9046c69c5217c_469e51be5cab6f465d8a532240da083f077ea3dc_002_20221227223905_0027_dnld /content/drive/MyDrive/datasets/deepsig/RML2016.10b.tar.bz2\n",
    "# ! tar -xvf /content/drive/MyDrive/datasets/deepsig/RML2016.10b.tar.bz2 -C /content/drive/MyDrive/datasets/deepsig/RML2016.10b\n",
    "# ! rm /content/drive/MyDrive/datasets/deepsig/RML2016.10b.tar.bz2\n",
    "'''"
   ]
  },
  {
   "cell_type": "code",
   "execution_count": 2,
   "id": "e4c9135c",
   "metadata": {
    "_cell_guid": "b1076dfc-b9ad-4769-8c92-a6c4dae69d19",
    "_uuid": "8f2839f25d086af736a60e9eeb907d3b93b6e0e5",
    "execution": {
     "iopub.execute_input": "2022-12-27T22:35:21.889326Z",
     "iopub.status.busy": "2022-12-27T22:35:21.888866Z",
     "iopub.status.idle": "2022-12-27T22:35:21.894108Z",
     "shell.execute_reply": "2022-12-27T22:35:21.892904Z"
    },
    "papermill": {
     "duration": 0.011384,
     "end_time": "2022-12-27T22:35:21.896576",
     "exception": false,
     "start_time": "2022-12-27T22:35:21.885192",
     "status": "completed"
    },
    "tags": []
   },
   "outputs": [],
   "source": [
    "import numpy as np # linear algebra\n",
    "import pickle\n",
    "\n",
    "ROOT = '/kaggle/input/rml2016'\n",
    "DAT = ROOT + '/RML2016.10b.dat'"
   ]
  },
  {
   "cell_type": "code",
   "execution_count": 3,
   "id": "ab76d2ad",
   "metadata": {
    "execution": {
     "iopub.execute_input": "2022-12-27T22:35:21.902718Z",
     "iopub.status.busy": "2022-12-27T22:35:21.902300Z",
     "iopub.status.idle": "2022-12-27T22:36:12.956093Z",
     "shell.execute_reply": "2022-12-27T22:36:12.954759Z"
    },
    "papermill": {
     "duration": 51.062251,
     "end_time": "2022-12-27T22:36:12.961088",
     "exception": false,
     "start_time": "2022-12-27T22:35:21.898837",
     "status": "completed"
    },
    "tags": []
   },
   "outputs": [
    {
     "data": {
      "text/plain": [
       "((1200000, 2, 128), (1200000, 2))"
      ]
     },
     "execution_count": 3,
     "metadata": {},
     "output_type": "execute_result"
    }
   ],
   "source": [
    "# from https://github.com/radioML/examples/blob/master/modulation_recognition/RML2016.10a_VTCNN2_example.ipynb\n",
    "# modified for python 3\n",
    "Xd = pickle.load(open(DAT, 'rb'), encoding='latin1')\n",
    "snrs,mods = map(lambda j: sorted(list(set(map(lambda x: x[j], Xd.keys())))), [1,0])\n",
    "X = []  \n",
    "lbl = []\n",
    "for mod in mods:\n",
    "    for snr in snrs:\n",
    "        X.append(Xd[(mod,snr)])\n",
    "        for i in range(Xd[(mod,snr)].shape[0]):  lbl.append((mod,snr))\n",
    "X = np.vstack(X)\n",
    "y = np.array(lbl)\n",
    "\n",
    "X.shape, y.shape"
   ]
  }
 ],
 "metadata": {
  "kernelspec": {
   "display_name": "Python 3",
   "language": "python",
   "name": "python3"
  },
  "language_info": {
   "codemirror_mode": {
    "name": "ipython",
    "version": 3
   },
   "file_extension": ".py",
   "mimetype": "text/x-python",
   "name": "python",
   "nbconvert_exporter": "python",
   "pygments_lexer": "ipython3",
   "version": "3.7.12"
  },
  "papermill": {
   "default_parameters": {},
   "duration": 62.184845,
   "end_time": "2022-12-27T22:36:13.786299",
   "environment_variables": {},
   "exception": null,
   "input_path": "__notebook__.ipynb",
   "output_path": "__notebook__.ipynb",
   "parameters": {},
   "start_time": "2022-12-27T22:35:11.601454",
   "version": "2.3.4"
  }
 },
 "nbformat": 4,
 "nbformat_minor": 5
}
