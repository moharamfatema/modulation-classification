{
 "cells": [
  {
   "cell_type": "markdown",
   "id": "03fbd6ac",
   "metadata": {
    "papermill": {
     "duration": 0.004143,
     "end_time": "2022-12-28T22:11:19.212641",
     "exception": false,
     "start_time": "2022-12-28T22:11:19.208498",
     "status": "completed"
    },
    "tags": []
   },
   "source": [
    "# Modulation Classification"
   ]
  },
  {
   "cell_type": "markdown",
   "id": "86faefbd",
   "metadata": {
    "papermill": {
     "duration": 0.003205,
     "end_time": "2022-12-28T22:11:19.219972",
     "exception": false,
     "start_time": "2022-12-28T22:11:19.216767",
     "status": "completed"
    },
    "tags": []
   },
   "source": [
    "**To download and untar the dataset in colab:**\n",
    "\n",
    "```bash\n",
    "! mkdir -P /content/drive/MyDrive/datasets/deepsig\n",
    "! wget -P /content/drive/MyDrive/datasets/deepsig https://f002.backblazeb2.com/file/deepsig-datasets/2016.10/RML2016.10b.tar.bz2?Authorization=3_20221227213905_2c795ffc54e9046c69c5217c_469e51be5cab6f465d8a532240da083f077ea3dc_002_20221227223905_0027_dnld\n",
    "! mv /content/drive/MyDrive/datasets/deepsig/RML2016.10b.tar.bz2?Authorization=3_20221227213905_2c795ffc54e9046c69c5217c_469e51be5cab6f465d8a532240da083f077ea3dc_002_20221227223905_0027_dnld /content/drive/MyDrive/datasets/deepsig/RML2016.10b.tar.bz2\n",
    "! tar -xvf /content/drive/MyDrive/datasets/deepsig/RML2016.10b.tar.bz2 -C /content/drive/MyDrive/datasets/deepsig/RML2016.10b\n",
    "! rm /content/drive/MyDrive/datasets/deepsig/RML2016.10b.tar.bz2\n",
    "```\n",
    "\n",
    "> Note : \n",
    "> The link will not work, you will have to request a link from the website."
   ]
  },
  {
   "cell_type": "markdown",
   "id": "a1217d0c",
   "metadata": {
    "papermill": {
     "duration": 0.003138,
     "end_time": "2022-12-28T22:11:19.226437",
     "exception": false,
     "start_time": "2022-12-28T22:11:19.223299",
     "status": "completed"
    },
    "tags": []
   },
   "source": [
    "## Imports and Constants"
   ]
  },
  {
   "cell_type": "code",
   "execution_count": 1,
   "id": "1eab4803",
   "metadata": {
    "_cell_guid": "b1076dfc-b9ad-4769-8c92-a6c4dae69d19",
    "_uuid": "8f2839f25d086af736a60e9eeb907d3b93b6e0e5",
    "execution": {
     "iopub.execute_input": "2022-12-28T22:11:19.235663Z",
     "iopub.status.busy": "2022-12-28T22:11:19.234721Z",
     "iopub.status.idle": "2022-12-28T22:11:20.863413Z",
     "shell.execute_reply": "2022-12-28T22:11:20.862501Z"
    },
    "papermill": {
     "duration": 1.636063,
     "end_time": "2022-12-28T22:11:20.865773",
     "exception": false,
     "start_time": "2022-12-28T22:11:19.229710",
     "status": "completed"
    },
    "tags": []
   },
   "outputs": [],
   "source": [
    "import numpy as np\n",
    "import pickle\n",
    "import matplotlib.pyplot as plt\n",
    "import scipy as sci\n",
    "from scipy.integrate import cumulative_trapezoid\n",
    "from sklearn.model_selection import train_test_split\n",
    "import plotly.graph_objects as go\n",
    "import plotly.express as px\n",
    "\n",
    "\n",
    "ROOT = '/kaggle/input/rml2016'\n",
    "DAT = ROOT + '/RML2016.10b.dat'"
   ]
  },
  {
   "cell_type": "markdown",
   "id": "0e9d159b",
   "metadata": {
    "papermill": {
     "duration": 0.003557,
     "end_time": "2022-12-28T22:11:20.874324",
     "exception": false,
     "start_time": "2022-12-28T22:11:20.870767",
     "status": "completed"
    },
    "tags": []
   },
   "source": [
    "## Loading and exploring the data"
   ]
  },
  {
   "cell_type": "code",
   "execution_count": 2,
   "id": "d1e07548",
   "metadata": {
    "execution": {
     "iopub.execute_input": "2022-12-28T22:11:20.883220Z",
     "iopub.status.busy": "2022-12-28T22:11:20.882879Z",
     "iopub.status.idle": "2022-12-28T22:11:56.644845Z",
     "shell.execute_reply": "2022-12-28T22:11:56.643834Z"
    },
    "papermill": {
     "duration": 35.771924,
     "end_time": "2022-12-28T22:11:56.650166",
     "exception": false,
     "start_time": "2022-12-28T22:11:20.878242",
     "status": "completed"
    },
    "tags": []
   },
   "outputs": [
    {
     "data": {
      "text/plain": [
       "((1200000, 2, 128), (1200000, 2))"
      ]
     },
     "execution_count": 2,
     "metadata": {},
     "output_type": "execute_result"
    }
   ],
   "source": [
    "# from https://github.com/radioML/examples/blob/master/modulation_recognition/RML2016.10a_VTCNN2_example.ipynb\n",
    "# modified for python 3\n",
    "Xd = pickle.load(open(DAT, 'rb'), encoding='latin1')\n",
    "snrs,mods = map(lambda j: sorted(list(set(map(lambda x: x[j], Xd.keys())))), [1,0])\n",
    "X = []  \n",
    "lbl = []\n",
    "for mod in mods:\n",
    "    for snr in snrs:\n",
    "        X.append(Xd[(mod,snr)])\n",
    "        for i in range(Xd[(mod,snr)].shape[0]):  lbl.append((mod,snr))\n",
    "X = np.vstack(X)\n",
    "y = np.array(lbl)\n",
    "\n",
    "X.shape, y.shape"
   ]
  },
  {
   "cell_type": "code",
   "execution_count": 3,
   "id": "87f9cc31",
   "metadata": {
    "execution": {
     "iopub.execute_input": "2022-12-28T22:11:56.658572Z",
     "iopub.status.busy": "2022-12-28T22:11:56.658261Z",
     "iopub.status.idle": "2022-12-28T22:11:57.245145Z",
     "shell.execute_reply": "2022-12-28T22:11:57.244098Z"
    },
    "papermill": {
     "duration": 0.593149,
     "end_time": "2022-12-28T22:11:57.246899",
     "exception": false,
     "start_time": "2022-12-28T22:11:56.653750",
     "status": "completed"
    },
    "tags": []
   },
   "outputs": [
    {
     "name": "stdout",
     "output_type": "stream",
     "text": [
      "(array(['8PSK', 'AM-DSB', 'BPSK', 'CPFSK', 'GFSK', 'PAM4', 'QAM16',\n",
      "       'QAM64', 'QPSK', 'WBFM'], dtype='<U21'), array([120000, 120000, 120000, 120000, 120000, 120000, 120000, 120000,\n",
      "       120000, 120000]))\n",
      "\n",
      "(array(['-10', '-12', '-14', '-16', '-18', '-2', '-20', '-4', '-6', '-8',\n",
      "       '0', '10', '12', '14', '16', '18', '2', '4', '6', '8'],\n",
      "      dtype='<U21'), array([60000, 60000, 60000, 60000, 60000, 60000, 60000, 60000, 60000,\n",
      "       60000, 60000, 60000, 60000, 60000, 60000, 60000, 60000, 60000,\n",
      "       60000, 60000]))\n"
     ]
    }
   ],
   "source": [
    "# The labels\n",
    "print(f'{np.unique(y[:,0],return_counts=True)}\\n\\n\\\n",
    "{np.unique(y[:,1],return_counts=True)}')"
   ]
  },
  {
   "cell_type": "code",
   "execution_count": 4,
   "id": "25331597",
   "metadata": {
    "execution": {
     "iopub.execute_input": "2022-12-28T22:11:57.255321Z",
     "iopub.status.busy": "2022-12-28T22:11:57.255034Z",
     "iopub.status.idle": "2022-12-28T22:11:57.410735Z",
     "shell.execute_reply": "2022-12-28T22:11:57.409725Z"
    },
    "papermill": {
     "duration": 0.161935,
     "end_time": "2022-12-28T22:11:57.412574",
     "exception": false,
     "start_time": "2022-12-28T22:11:57.250639",
     "status": "completed"
    },
    "tags": []
   },
   "outputs": [
    {
     "data": {
      "image/png": "[encoded data removed]",
      "text/plain": [
       "<Figure size 432x288 with 1 Axes>"
      ]
     },
     "metadata": {
      "needs_background": "light"
     },
     "output_type": "display_data"
    }
   ],
   "source": [
    "plt.plot(X[0,0])\n",
    "plt.plot(X[0,1])\n",
    "plt.title(f'{y[0,0]} , {y[0,1]}')\n",
    "plt.show()"
   ]
  },
  {
   "cell_type": "markdown",
   "id": "22176852",
   "metadata": {
    "papermill": {
     "duration": 0.003926,
     "end_time": "2022-12-28T22:11:57.420803",
     "exception": false,
     "start_time": "2022-12-28T22:11:57.416877",
     "status": "completed"
    },
    "tags": []
   },
   "source": [
    "**Signal derivative**"
   ]
  },
  {
   "cell_type": "code",
   "execution_count": 5,
   "id": "e5ca7747",
   "metadata": {
    "execution": {
     "iopub.execute_input": "2022-12-28T22:11:57.431666Z",
     "iopub.status.busy": "2022-12-28T22:11:57.431351Z",
     "iopub.status.idle": "2022-12-28T22:11:57.494410Z",
     "shell.execute_reply": "2022-12-28T22:11:57.493556Z"
    },
    "papermill": {
     "duration": 0.070687,
     "end_time": "2022-12-28T22:11:57.496202",
     "exception": false,
     "start_time": "2022-12-28T22:11:57.425515",
     "status": "completed"
    },
    "tags": []
   },
   "outputs": [
    {
     "name": "stderr",
     "output_type": "stream",
     "text": [
      "/opt/conda/lib/python3.7/site-packages/plotly/graph_objs/_deprecations.py:385: DeprecationWarning:\n",
      "\n",
      "plotly.graph_objs.Line is deprecated.\n",
      "Please replace it with one of the following more specific types\n",
      "  - plotly.graph_objs.scatter.Line\n",
      "  - plotly.graph_objs.layout.shape.Line\n",
      "  - etc.\n",
      "\n",
      "\n"
     ]
    },
    {
     "data": {
      "text/html": [
       "        <script type=\"text/javascript\">\n",
       "        window.PlotlyConfig = {MathJaxConfig: 'local'};\n",
       "        if (window.MathJax && window.MathJax.Hub && window.MathJax.Hub.Config) {window.MathJax.Hub.Config({SVG: {font: \"STIX-Web\"}});}\n",
       "        if (typeof require !== 'undefined') {\n",
       "        require.undef(\"plotly\");\n",
       "        requirejs.config({\n",
       "            paths: {\n",
       "                'plotly': ['https://cdn.plot.ly/plotly-2.14.0.min']\n",
       "            }\n",
       "        });\n",
       "        require(['plotly'], function(Plotly) {\n",
       "            window._Plotly = Plotly;\n",
       "        });\n",
       "        }\n",
       "        </script>\n",
       "        "
      ]
     },
     "metadata": {},
     "output_type": "display_data"
    },
    {
     "data": {
      "text/html": [
       "<div>                            <div id=\"54de5e6f-3086-4c48-8fbc-b9f420f095ae\" class=\"plotly-graph-div\" style=\"height:525px; width:100%;\"></div>            <script type=\"text/javascript\">                require([\"plotly\"], function(Plotly) {                    window.PLOTLYENV=window.PLOTLYENV || {};                                    if (document.getElementById(\"54de5e6f-3086-4c48-8fbc-b9f420f095ae\")) {                    Plotly.newPlot(                        \"54de5e6f-3086-4c48-8fbc-b9f420f095ae\",                        [{\"name\":\"derivative\",\"x\":[0.0,1.0,2.0,3.0,4.0,5.0,6.0,7.0,8.0,9.0,10.0,11.0,12.0,13.0,14.0,15.0,16.0,17.0,18.0,19.0,20.0,21.0,22.0,23.0,24.0,25.0,26.0,27.0,28.0,29.0,30.0,31.0,32.0,33.0,34.0,35.0,36.0,37.0,38.0,39.0,40.0,41.0,42.0,43.0,44.0,45.0,46.0,47.0,48.0,49.0,50.0,51.0,52.0,53.0,54.0,55.0,56.0,57.0,58.0,59.0,60.0,61.0,62.0,63.0,64.0,65.0,66.0,67.0,68.0,69.0,70.0,71.0,72.0,73.0,74.0,75.0,76.0,77.0,78.0,79.0,80.0,81.0,82.0,83.0,84.0,85.0,86.0,87.0,88.0,89.0,90.0,91.0,92.0,93.0,94.0,95.0,96.0,97.0,98.0,99.0,100.0,101.0,102.0,103.0,104.0,105.0,106.0,107.0,108.0,109.0,110.0,111.0,112.0,113.0,114.0,115.0,116.0,117.0,118.0,119.0,120.0,121.0,122.0,123.0,124.0,125.0,126.0,127.0],\"y\":[-0.0030757328,-0.0063179284,-0.0008355391,0.0046678763,0.0034176984,-0.0030460553,-0.0036609815,-0.0038111845,0.000048548332,0.0071852,0.0009123299,-0.001524044,-0.0060041165,0.002412406,0.004331559,-0.004020439,-0.0007165823,0.002374548,-0.0016609711,-0.0014710617,-0.0038828927,-0.0042168032,0.0037548668,-0.00066472404,0.0015605057,0.0012306897,-0.001904292,0.004451613,-0.00159957,-0.00447921,0.000964273,0.008587208,0.0027849392,-0.0060916794,0.0031494033,0.0027357198,-0.0020115427,-0.000427993,0.00055985234,-0.006676385,-0.0044980664,0.005620351,0.0058366517,0.00072584813,-0.0064223707,-0.00413769,0.0050882166,0.001503017,-0.0028159353,0.0048512076,-0.007917187,-0.003077388,0.011015423,-0.0029404436,-0.0010743535,-0.0029426003,0.0024840515,0.004424437,-0.003079859,0.0023692586,-0.0017379484,0.0058263172,0.004050086,-0.007433743,-0.0019264007,-0.0028315498,0.0046792543,0.002628728,-0.009693658,0.0013713466,-0.00038855872,0.0023146714,0.0041497303,-0.0053569754,0.003401782,0.00013512175,0.00047994498,0.003739779,-0.0040378887,0.0022086434,-0.00094540894,-0.004157166,0.0030372683,-0.00016985481,-0.006241004,0.0044575143,0.009093676,-0.0072293924,-0.0032520057,0.0014496958,0.0005182355,-0.0046231616,-0.005195708,0.013825718,0.005357323,-0.0074212635,-0.0016570135,0.0002670866,-0.00034781446,-0.0046451283,-0.0044016307,0.0036246444,0.007620142,-0.0030673624,-0.0022599567,0.0019442431,0.00019257178,0.008099643,0.0010108814,-0.0018580477,-0.0075459564,-0.0066501405,0.002805198,0.010685264,0.0046795877,-0.004959109,0.0042788372,-0.0049490794,-0.007135001,-0.0018306891,-0.00078818144,-0.0025902558,0.005111563,0.005894146,-0.004911339,-0.0009510248,0.0031675012,0.004823858],\"type\":\"scatter\"},{\"name\":\"original signal\",\"x\":[0.0,1.0,2.0,3.0,4.0,5.0,6.0,7.0,8.0,9.0,10.0,11.0,12.0,13.0,14.0,15.0,16.0,17.0,18.0,19.0,20.0,21.0,22.0,23.0,24.0,25.0,26.0,27.0,28.0,29.0,30.0,31.0,32.0,33.0,34.0,35.0,36.0,37.0,38.0,39.0,40.0,41.0,42.0,43.0,44.0,45.0,46.0,47.0,48.0,49.0,50.0,51.0,52.0,53.0,54.0,55.0,56.0,57.0,58.0,59.0,60.0,61.0,62.0,63.0,64.0,65.0,66.0,67.0,68.0,69.0,70.0,71.0,72.0,73.0,74.0,75.0,76.0,77.0,78.0,79.0,80.0,81.0,82.0,83.0,84.0,85.0,86.0,87.0,88.0,89.0,90.0,91.0,92.0,93.0,94.0,95.0,96.0,97.0,98.0,99.0,100.0,101.0,102.0,103.0,104.0,105.0,106.0,107.0,108.0,109.0,110.0,111.0,112.0,113.0,114.0,115.0,116.0,117.0,118.0,119.0,120.0,121.0,122.0,123.0,124.0,125.0,126.0,127.0],\"y\":[0.009070556,0.005994823,-0.0035653014,0.0043237447,0.005770451,0.011159142,-0.0003216596,0.0038371787,-0.007944029,0.0039342754,0.0064263716,0.005758935,0.0033782837,-0.006249298,0.008203096,0.00241382,0.00016221807,0.0009806554,0.004911314,-0.0023412867,0.0019691908,-0.010107072,-0.006464416,-0.0025973385,-0.0077938642,0.00052367285,-0.005332485,-0.0032849112,0.0035707406,-0.0064840512,-0.005387679,-0.0045555052,0.011786737,0.0010143733,-0.0003966222,0.00731318,0.005074817,0.0032900942,0.004218831,0.004409799,-0.00913394,-0.0045863343,0.002106763,0.0070869685,0.0035584592,-0.005757773,-0.0047169216,0.004418661,-0.0017108874,-0.0012132095,0.007991528,-0.017047584,0.0018367522,0.0049832608,-0.004044135,0.0028345538,-0.009929336,0.007802657,-0.0010804615,0.0016429388,0.0036580556,-0.001832958,0.01531069,0.0062672133,0.00044320352,0.0024144119,-0.0052198963,0.01177292,0.00003755991,-0.007614396,0.0027802533,-0.0083915135,0.0074095964,-0.00009205323,-0.0033043544,0.0067115105,-0.0030341109,0.0076714004,0.004445447,-0.00040437718,0.008862734,-0.0022951951,0.0005484015,0.0037793415,0.00020869187,-0.0087026665,0.00912372,0.009484686,-0.0053350646,0.0029806744,-0.002435673,0.0040171454,-0.011681996,-0.0063742707,0.01596944,0.0043403753,0.0011269138,0.0010263482,0.001661087,0.00033071925,-0.007629169,-0.008472542,-0.00037988057,0.006767742,-0.006514605,0.0022478285,-0.002626119,0.002632972,0.013573167,0.004654735,0.009857072,-0.010437178,-0.0034432092,-0.0048267823,0.017927319,0.004532393,0.008009101,0.013090068,-0.0018890576,-0.0011799347,-0.0055504357,-0.0027562976,-0.010730947,0.007466829,0.001057345,-0.002355849,-0.0008447047,0.0039791535],\"type\":\"scatter\"}],                        {\"template\":{\"data\":{\"histogram2dcontour\":[{\"type\":\"histogram2dcontour\",\"colorbar\":{\"outlinewidth\":0,\"ticks\":\"\"},\"colorscale\":[[0.0,\"#0d0887\"],[0.1111111111111111,\"#46039f\"],[0.2222222222222222,\"#7201a8\"],[0.3333333333333333,\"#9c179e\"],[0.4444444444444444,\"#bd3786\"],[0.5555555555555556,\"#d8576b\"],[0.6666666666666666,\"#ed7953\"],[0.7777777777777778,\"#fb9f3a\"],[0.8888888888888888,\"#fdca26\"],[1.0,\"#f0f921\"]]}],\"choropleth\":[{\"type\":\"choropleth\",\"colorbar\":{\"outlinewidth\":0,\"ticks\":\"\"}}],\"histogram2d\":[{\"type\":\"histogram2d\",\"colorbar\":{\"outlinewidth\":0,\"ticks\":\"\"},\"colorscale\":[[0.0,\"#0d0887\"],[0.1111111111111111,\"#46039f\"],[0.2222222222222222,\"#7201a8\"],[0.3333333333333333,\"#9c179e\"],[0.4444444444444444,\"#bd3786\"],[0.5555555555555556,\"#d8576b\"],[0.6666666666666666,\"#ed7953\"],[0.7777777777777778,\"#fb9f3a\"],[0.8888888888888888,\"#fdca26\"],[1.0,\"#f0f921\"]]}],\"heatmap\":[{\"type\":\"heatmap\",\"colorbar\":{\"outlinewidth\":0,\"ticks\":\"\"},\"colorscale\":[[0.0,\"#0d0887\"],[0.1111111111111111,\"#46039f\"],[0.2222222222222222,\"#7201a8\"],[0.3333333333333333,\"#9c179e\"],[0.4444444444444444,\"#bd3786\"],[0.5555555555555556,\"#d8576b\"],[0.6666666666666666,\"#ed7953\"],[0.7777777777777778,\"#fb9f3a\"],[0.8888888888888888,\"#fdca26\"],[1.0,\"#f0f921\"]]}],\"heatmapgl\":[{\"type\":\"heatmapgl\",\"colorbar\":{\"outlinewidth\":0,\"ticks\":\"\"},\"colorscale\":[[0.0,\"#0d0887\"],[0.1111111111111111,\"#46039f\"],[0.2222222222222222,\"#7201a8\"],[0.3333333333333333,\"#9c179e\"],[0.4444444444444444,\"#bd3786\"],[0.5555555555555556,\"#d8576b\"],[0.6666666666666666,\"#ed7953\"],[0.7777777777777778,\"#fb9f3a\"],[0.8888888888888888,\"#fdca26\"],[1.0,\"#f0f921\"]]}],\"contourcarpet\":[{\"type\":\"contourcarpet\",\"colorbar\":{\"outlinewidth\":0,\"ticks\":\"\"}}],\"contour\":[{\"type\":\"contour\",\"colorbar\":{\"outlinewidth\":0,\"ticks\":\"\"},\"colorscale\":[[0.0,\"#0d0887\"],[0.1111111111111111,\"#46039f\"],[0.2222222222222222,\"#7201a8\"],[0.3333333333333333,\"#9c179e\"],[0.4444444444444444,\"#bd3786\"],[0.5555555555555556,\"#d8576b\"],[0.6666666666666666,\"#ed7953\"],[0.7777777777777778,\"#fb9f3a\"],[0.8888888888888888,\"#fdca26\"],[1.0,\"#f0f921\"]]}],\"surface\":[{\"type\":\"surface\",\"colorbar\":{\"outlinewidth\":0,\"ticks\":\"\"},\"colorscale\":[[0.0,\"#0d0887\"],[0.1111111111111111,\"#46039f\"],[0.2222222222222222,\"#7201a8\"],[0.3333333333333333,\"#9c179e\"],[0.4444444444444444,\"#bd3786\"],[0.5555555555555556,\"#d8576b\"],[0.6666666666666666,\"#ed7953\"],[0.7777777777777778,\"#fb9f3a\"],[0.8888888888888888,\"#fdca26\"],[1.0,\"#f0f921\"]]}],\"mesh3d\":[{\"type\":\"mesh3d\",\"colorbar\":{\"outlinewidth\":0,\"ticks\":\"\"}}],\"scatter\":[{\"fillpattern\":{\"fillmode\":\"overlay\",\"size\":10,\"solidity\":0.2},\"type\":\"scatter\"}],\"parcoords\":[{\"type\":\"parcoords\",\"line\":{\"colorbar\":{\"outlinewidth\":0,\"ticks\":\"\"}}}],\"scatterpolargl\":[{\"type\":\"scatterpolargl\",\"marker\":{\"colorbar\":{\"outlinewidth\":0,\"ticks\":\"\"}}}],\"bar\":[{\"error_x\":{\"color\":\"#2a3f5f\"},\"error_y\":{\"color\":\"#2a3f5f\"},\"marker\":{\"line\":{\"color\":\"#E5ECF6\",\"width\":0.5},\"pattern\":{\"fillmode\":\"overlay\",\"size\":10,\"solidity\":0.2}},\"type\":\"bar\"}],\"scattergeo\":[{\"type\":\"scattergeo\",\"marker\":{\"colorbar\":{\"outlinewidth\":0,\"ticks\":\"\"}}}],\"scatterpolar\":[{\"type\":\"scatterpolar\",\"marker\":{\"colorbar\":{\"outlinewidth\":0,\"ticks\":\"\"}}}],\"histogram\":[{\"marker\":{\"pattern\":{\"fillmode\":\"overlay\",\"size\":10,\"solidity\":0.2}},\"type\":\"histogram\"}],\"scattergl\":[{\"type\":\"scattergl\",\"marker\":{\"colorbar\":{\"outlinewidth\":0,\"ticks\":\"\"}}}],\"scatter3d\":[{\"type\":\"scatter3d\",\"line\":{\"colorbar\":{\"outlinewidth\":0,\"ticks\":\"\"}},\"marker\":{\"colorbar\":{\"outlinewidth\":0,\"ticks\":\"\"}}}],\"scattermapbox\":[{\"type\":\"scattermapbox\",\"marker\":{\"colorbar\":{\"outlinewidth\":0,\"ticks\":\"\"}}}],\"scatterternary\":[{\"type\":\"scatterternary\",\"marker\":{\"colorbar\":{\"outlinewidth\":0,\"ticks\":\"\"}}}],\"scattercarpet\":[{\"type\":\"scattercarpet\",\"marker\":{\"colorbar\":{\"outlinewidth\":0,\"ticks\":\"\"}}}],\"carpet\":[{\"aaxis\":{\"endlinecolor\":\"#2a3f5f\",\"gridcolor\":\"white\",\"linecolor\":\"white\",\"minorgridcolor\":\"white\",\"startlinecolor\":\"#2a3f5f\"},\"baxis\":{\"endlinecolor\":\"#2a3f5f\",\"gridcolor\":\"white\",\"linecolor\":\"white\",\"minorgridcolor\":\"white\",\"startlinecolor\":\"#2a3f5f\"},\"type\":\"carpet\"}],\"table\":[{\"cells\":{\"fill\":{\"color\":\"#EBF0F8\"},\"line\":{\"color\":\"white\"}},\"header\":{\"fill\":{\"color\":\"#C8D4E3\"},\"line\":{\"color\":\"white\"}},\"type\":\"table\"}],\"barpolar\":[{\"marker\":{\"line\":{\"color\":\"#E5ECF6\",\"width\":0.5},\"pattern\":{\"fillmode\":\"overlay\",\"size\":10,\"solidity\":0.2}},\"type\":\"barpolar\"}],\"pie\":[{\"automargin\":true,\"type\":\"pie\"}]},\"layout\":{\"autotypenumbers\":\"strict\",\"colorway\":[\"#636efa\",\"#EF553B\",\"#00cc96\",\"#ab63fa\",\"#FFA15A\",\"#19d3f3\",\"#FF6692\",\"#B6E880\",\"#FF97FF\",\"#FECB52\"],\"font\":{\"color\":\"#2a3f5f\"},\"hovermode\":\"closest\",\"hoverlabel\":{\"align\":\"left\"},\"paper_bgcolor\":\"white\",\"plot_bgcolor\":\"#E5ECF6\",\"polar\":{\"bgcolor\":\"#E5ECF6\",\"angularaxis\":{\"gridcolor\":\"white\",\"linecolor\":\"white\",\"ticks\":\"\"},\"radialaxis\":{\"gridcolor\":\"white\",\"linecolor\":\"white\",\"ticks\":\"\"}},\"ternary\":{\"bgcolor\":\"#E5ECF6\",\"aaxis\":{\"gridcolor\":\"white\",\"linecolor\":\"white\",\"ticks\":\"\"},\"baxis\":{\"gridcolor\":\"white\",\"linecolor\":\"white\",\"ticks\":\"\"},\"caxis\":{\"gridcolor\":\"white\",\"linecolor\":\"white\",\"ticks\":\"\"}},\"coloraxis\":{\"colorbar\":{\"outlinewidth\":0,\"ticks\":\"\"}},\"colorscale\":{\"sequential\":[[0.0,\"#0d0887\"],[0.1111111111111111,\"#46039f\"],[0.2222222222222222,\"#7201a8\"],[0.3333333333333333,\"#9c179e\"],[0.4444444444444444,\"#bd3786\"],[0.5555555555555556,\"#d8576b\"],[0.6666666666666666,\"#ed7953\"],[0.7777777777777778,\"#fb9f3a\"],[0.8888888888888888,\"#fdca26\"],[1.0,\"#f0f921\"]],\"sequentialminus\":[[0.0,\"#0d0887\"],[0.1111111111111111,\"#46039f\"],[0.2222222222222222,\"#7201a8\"],[0.3333333333333333,\"#9c179e\"],[0.4444444444444444,\"#bd3786\"],[0.5555555555555556,\"#d8576b\"],[0.6666666666666666,\"#ed7953\"],[0.7777777777777778,\"#fb9f3a\"],[0.8888888888888888,\"#fdca26\"],[1.0,\"#f0f921\"]],\"diverging\":[[0,\"#8e0152\"],[0.1,\"#c51b7d\"],[0.2,\"#de77ae\"],[0.3,\"#f1b6da\"],[0.4,\"#fde0ef\"],[0.5,\"#f7f7f7\"],[0.6,\"#e6f5d0\"],[0.7,\"#b8e186\"],[0.8,\"#7fbc41\"],[0.9,\"#4d9221\"],[1,\"#276419\"]]},\"xaxis\":{\"gridcolor\":\"white\",\"linecolor\":\"white\",\"ticks\":\"\",\"title\":{\"standoff\":15},\"zerolinecolor\":\"white\",\"automargin\":true,\"zerolinewidth\":2},\"yaxis\":{\"gridcolor\":\"white\",\"linecolor\":\"white\",\"ticks\":\"\",\"title\":{\"standoff\":15},\"zerolinecolor\":\"white\",\"automargin\":true,\"zerolinewidth\":2},\"scene\":{\"xaxis\":{\"backgroundcolor\":\"#E5ECF6\",\"gridcolor\":\"white\",\"linecolor\":\"white\",\"showbackground\":true,\"ticks\":\"\",\"zerolinecolor\":\"white\",\"gridwidth\":2},\"yaxis\":{\"backgroundcolor\":\"#E5ECF6\",\"gridcolor\":\"white\",\"linecolor\":\"white\",\"showbackground\":true,\"ticks\":\"\",\"zerolinecolor\":\"white\",\"gridwidth\":2},\"zaxis\":{\"backgroundcolor\":\"#E5ECF6\",\"gridcolor\":\"white\",\"linecolor\":\"white\",\"showbackground\":true,\"ticks\":\"\",\"zerolinecolor\":\"white\",\"gridwidth\":2}},\"shapedefaults\":{\"line\":{\"color\":\"#2a3f5f\"}},\"annotationdefaults\":{\"arrowcolor\":\"#2a3f5f\",\"arrowhead\":0,\"arrowwidth\":1},\"geo\":{\"bgcolor\":\"white\",\"landcolor\":\"#E5ECF6\",\"subunitcolor\":\"white\",\"showland\":true,\"showlakes\":true,\"lakecolor\":\"white\"},\"title\":{\"x\":0.05},\"mapbox\":{\"style\":\"light\"}}}},                        {\"responsive\": true}                    ).then(function(){\n",
       "                            \n",
       "var gd = document.getElementById('54de5e6f-3086-4c48-8fbc-b9f420f095ae');\n",
       "var x = new MutationObserver(function (mutations, observer) {{\n",
       "        var display = window.getComputedStyle(gd).display;\n",
       "        if (!display || display === 'none') {{\n",
       "            console.log([gd, 'removed!']);\n",
       "            Plotly.purge(gd);\n",
       "            observer.disconnect();\n",
       "        }}\n",
       "}});\n",
       "\n",
       "// Listen for the removal of the full notebook cells\n",
       "var notebookContainer = gd.closest('#notebook-container');\n",
       "if (notebookContainer) {{\n",
       "    x.observe(notebookContainer, {childList: true});\n",
       "}}\n",
       "\n",
       "// Listen for the clearing of the current output cell\n",
       "var outputEl = gd.closest('.output');\n",
       "if (outputEl) {{\n",
       "    x.observe(outputEl, {childList: true});\n",
       "}}\n",
       "\n",
       "                        })                };                });            </script>        </div>"
      ]
     },
     "metadata": {},
     "output_type": "display_data"
    }
   ],
   "source": [
    "d_np = np.gradient(X[0,0])\n",
    "\n",
    "lines=[d_np,X[0,0]]\n",
    "\n",
    "t = np.linspace(0,127,128)\n",
    "\n",
    "fig = go.Figure()\n",
    "fig.add_trace(go.Line(x=t,y=lines[0],name=f'derivative'))\n",
    "fig.add_trace(go.Line(x=t,y=lines[1],name=f'original signal'))\n",
    "\n",
    "fig.show()"
   ]
  },
  {
   "cell_type": "markdown",
   "id": "0b189a22",
   "metadata": {
    "papermill": {
     "duration": 0.004297,
     "end_time": "2022-12-28T22:11:57.505195",
     "exception": false,
     "start_time": "2022-12-28T22:11:57.500898",
     "status": "completed"
    },
    "tags": []
   },
   "source": [
    "**Signal Integral**"
   ]
  },
  {
   "cell_type": "code",
   "execution_count": 6,
   "id": "9afe008c",
   "metadata": {
    "execution": {
     "iopub.execute_input": "2022-12-28T22:11:57.515476Z",
     "iopub.status.busy": "2022-12-28T22:11:57.515165Z",
     "iopub.status.idle": "2022-12-28T22:11:57.524875Z",
     "shell.execute_reply": "2022-12-28T22:11:57.524319Z"
    },
    "papermill": {
     "duration": 0.016763,
     "end_time": "2022-12-28T22:11:57.526415",
     "exception": false,
     "start_time": "2022-12-28T22:11:57.509652",
     "status": "completed"
    },
    "tags": []
   },
   "outputs": [
    {
     "data": {
      "text/html": [
       "<div>                            <div id=\"5cd272c1-ba0d-4a82-9273-e813a45af532\" class=\"plotly-graph-div\" style=\"height:525px; width:100%;\"></div>            <script type=\"text/javascript\">                require([\"plotly\"], function(Plotly) {                    window.PLOTLYENV=window.PLOTLYENV || {};                                    if (document.getElementById(\"5cd272c1-ba0d-4a82-9273-e813a45af532\")) {                    Plotly.newPlot(                        \"5cd272c1-ba0d-4a82-9273-e813a45af532\",                        [{\"name\":\"cumulative trapezoid\",\"x\":[0.0,1.0,2.0,3.0,4.0,5.0,6.0,7.0,8.0,9.0,10.0,11.0,12.0,13.0,14.0,15.0,16.0,17.0,18.0,19.0,20.0,21.0,22.0,23.0,24.0,25.0,26.0,27.0,28.0,29.0,30.0,31.0,32.0,33.0,34.0,35.0,36.0,37.0,38.0,39.0,40.0,41.0,42.0,43.0,44.0,45.0,46.0,47.0,48.0,49.0,50.0,51.0,52.0,53.0,54.0,55.0,56.0,57.0,58.0,59.0,60.0,61.0,62.0,63.0,64.0,65.0,66.0,67.0,68.0,69.0,70.0,71.0,72.0,73.0,74.0,75.0,76.0,77.0,78.0,79.0,80.0,81.0,82.0,83.0,84.0,85.0,86.0,87.0,88.0,89.0,90.0,91.0,92.0,93.0,94.0,95.0,96.0,97.0,98.0,99.0,100.0,101.0,102.0,103.0,104.0,105.0,106.0,107.0,108.0,109.0,110.0,111.0,112.0,113.0,114.0,115.0,116.0,117.0,118.0,119.0,120.0,121.0,122.0,123.0,124.0,125.0,126.0,127.0],\"y\":[0.0075326893,0.00874745,0.009126672,0.014173769,0.022638567,0.028057307,0.029815067,0.027761642,0.025756765,0.030937089,0.037029743,0.041598354,0.040162846,0.041139744,0.0464482,0.04773622,0.048307657,0.051253643,0.052538656,0.052352607,0.048283666,0.03999792,0.035467044,0.030271443,0.026636347,0.02423194,0.019923244,0.020066159,0.018609503,0.012673638,0.0077020456,0.011317661,0.017718216,0.018027091,0.02148537,0.027679369,0.031861823,0.035616286,0.0399306,0.037568532,0.030708395,0.029468609,0.034065474,0.039388187,0.03828853,0.03305118,0.03290205,0.034255937,0.032793887,0.036183044,0.031655017,0.024049602,0.027459608,0.027929172,0.027324382,0.023776991,0.022713652,0.026074748,0.026355987,0.029006485,0.029919034,0.0366579,0.04744685,0.05080206,0.05223087,0.050828125,0.054104637,0.060009878,0.05622146,0.053804386,0.050998755,0.050507795,0.054166567,0.052468363,0.054171942,0.05601064,0.058329284,0.06438771,0.06640825,0.07063743,0.073921196,0.0730478,0.075211674,0.07720569,0.0729587,0.073169224,0.08247343,0.084548235,0.08337104,0.08364354,0.08443428,0.080601856,0.07157372,0.076371305,0.086526215,0.08925986,0.090336494,0.091680214,0.09267612,0.08902689,0.08097604,0.07654983,0.07974376,0.07987033,0.07773694,0.07754779,0.077551216,0.08565429,0.09476824,0.102024145,0.101734094,0.0947939,0.0906589,0.09720917,0.10843903,0.11470977,0.12525935,0.13085987,0.12932537,0.12596019,0.12180682,0.1150632,0.11343114,0.11769323,0.11704398,0.1154437,0.11701092],\"type\":\"scatter\"},{\"name\":\"original signal\",\"x\":[0.0,1.0,2.0,3.0,4.0,5.0,6.0,7.0,8.0,9.0,10.0,11.0,12.0,13.0,14.0,15.0,16.0,17.0,18.0,19.0,20.0,21.0,22.0,23.0,24.0,25.0,26.0,27.0,28.0,29.0,30.0,31.0,32.0,33.0,34.0,35.0,36.0,37.0,38.0,39.0,40.0,41.0,42.0,43.0,44.0,45.0,46.0,47.0,48.0,49.0,50.0,51.0,52.0,53.0,54.0,55.0,56.0,57.0,58.0,59.0,60.0,61.0,62.0,63.0,64.0,65.0,66.0,67.0,68.0,69.0,70.0,71.0,72.0,73.0,74.0,75.0,76.0,77.0,78.0,79.0,80.0,81.0,82.0,83.0,84.0,85.0,86.0,87.0,88.0,89.0,90.0,91.0,92.0,93.0,94.0,95.0,96.0,97.0,98.0,99.0,100.0,101.0,102.0,103.0,104.0,105.0,106.0,107.0,108.0,109.0,110.0,111.0,112.0,113.0,114.0,115.0,116.0,117.0,118.0,119.0,120.0,121.0,122.0,123.0,124.0,125.0,126.0,127.0],\"y\":[0.009070556,0.005994823,-0.0035653014,0.0043237447,0.005770451,0.011159142,-0.0003216596,0.0038371787,-0.007944029,0.0039342754,0.0064263716,0.005758935,0.0033782837,-0.006249298,0.008203096,0.00241382,0.00016221807,0.0009806554,0.004911314,-0.0023412867,0.0019691908,-0.010107072,-0.006464416,-0.0025973385,-0.0077938642,0.00052367285,-0.005332485,-0.0032849112,0.0035707406,-0.0064840512,-0.005387679,-0.0045555052,0.011786737,0.0010143733,-0.0003966222,0.00731318,0.005074817,0.0032900942,0.004218831,0.004409799,-0.00913394,-0.0045863343,0.002106763,0.0070869685,0.0035584592,-0.005757773,-0.0047169216,0.004418661,-0.0017108874,-0.0012132095,0.007991528,-0.017047584,0.0018367522,0.0049832608,-0.004044135,0.0028345538,-0.009929336,0.007802657,-0.0010804615,0.0016429388,0.0036580556,-0.001832958,0.01531069,0.0062672133,0.00044320352,0.0024144119,-0.0052198963,0.01177292,0.00003755991,-0.007614396,0.0027802533,-0.0083915135,0.0074095964,-0.00009205323,-0.0033043544,0.0067115105,-0.0030341109,0.0076714004,0.004445447,-0.00040437718,0.008862734,-0.0022951951,0.0005484015,0.0037793415,0.00020869187,-0.0087026665,0.00912372,0.009484686,-0.0053350646,0.0029806744,-0.002435673,0.0040171454,-0.011681996,-0.0063742707,0.01596944,0.0043403753,0.0011269138,0.0010263482,0.001661087,0.00033071925,-0.007629169,-0.008472542,-0.00037988057,0.006767742,-0.006514605,0.0022478285,-0.002626119,0.002632972,0.013573167,0.004654735,0.009857072,-0.010437178,-0.0034432092,-0.0048267823,0.017927319,0.004532393,0.008009101,0.013090068,-0.0018890576,-0.0011799347,-0.0055504357,-0.0027562976,-0.010730947,0.007466829,0.001057345,-0.002355849,-0.0008447047,0.0039791535],\"type\":\"scatter\"}],                        {\"template\":{\"data\":{\"histogram2dcontour\":[{\"type\":\"histogram2dcontour\",\"colorbar\":{\"outlinewidth\":0,\"ticks\":\"\"},\"colorscale\":[[0.0,\"#0d0887\"],[0.1111111111111111,\"#46039f\"],[0.2222222222222222,\"#7201a8\"],[0.3333333333333333,\"#9c179e\"],[0.4444444444444444,\"#bd3786\"],[0.5555555555555556,\"#d8576b\"],[0.6666666666666666,\"#ed7953\"],[0.7777777777777778,\"#fb9f3a\"],[0.8888888888888888,\"#fdca26\"],[1.0,\"#f0f921\"]]}],\"choropleth\":[{\"type\":\"choropleth\",\"colorbar\":{\"outlinewidth\":0,\"ticks\":\"\"}}],\"histogram2d\":[{\"type\":\"histogram2d\",\"colorbar\":{\"outlinewidth\":0,\"ticks\":\"\"},\"colorscale\":[[0.0,\"#0d0887\"],[0.1111111111111111,\"#46039f\"],[0.2222222222222222,\"#7201a8\"],[0.3333333333333333,\"#9c179e\"],[0.4444444444444444,\"#bd3786\"],[0.5555555555555556,\"#d8576b\"],[0.6666666666666666,\"#ed7953\"],[0.7777777777777778,\"#fb9f3a\"],[0.8888888888888888,\"#fdca26\"],[1.0,\"#f0f921\"]]}],\"heatmap\":[{\"type\":\"heatmap\",\"colorbar\":{\"outlinewidth\":0,\"ticks\":\"\"},\"colorscale\":[[0.0,\"#0d0887\"],[0.1111111111111111,\"#46039f\"],[0.2222222222222222,\"#7201a8\"],[0.3333333333333333,\"#9c179e\"],[0.4444444444444444,\"#bd3786\"],[0.5555555555555556,\"#d8576b\"],[0.6666666666666666,\"#ed7953\"],[0.7777777777777778,\"#fb9f3a\"],[0.8888888888888888,\"#fdca26\"],[1.0,\"#f0f921\"]]}],\"heatmapgl\":[{\"type\":\"heatmapgl\",\"colorbar\":{\"outlinewidth\":0,\"ticks\":\"\"},\"colorscale\":[[0.0,\"#0d0887\"],[0.1111111111111111,\"#46039f\"],[0.2222222222222222,\"#7201a8\"],[0.3333333333333333,\"#9c179e\"],[0.4444444444444444,\"#bd3786\"],[0.5555555555555556,\"#d8576b\"],[0.6666666666666666,\"#ed7953\"],[0.7777777777777778,\"#fb9f3a\"],[0.8888888888888888,\"#fdca26\"],[1.0,\"#f0f921\"]]}],\"contourcarpet\":[{\"type\":\"contourcarpet\",\"colorbar\":{\"outlinewidth\":0,\"ticks\":\"\"}}],\"contour\":[{\"type\":\"contour\",\"colorbar\":{\"outlinewidth\":0,\"ticks\":\"\"},\"colorscale\":[[0.0,\"#0d0887\"],[0.1111111111111111,\"#46039f\"],[0.2222222222222222,\"#7201a8\"],[0.3333333333333333,\"#9c179e\"],[0.4444444444444444,\"#bd3786\"],[0.5555555555555556,\"#d8576b\"],[0.6666666666666666,\"#ed7953\"],[0.7777777777777778,\"#fb9f3a\"],[0.8888888888888888,\"#fdca26\"],[1.0,\"#f0f921\"]]}],\"surface\":[{\"type\":\"surface\",\"colorbar\":{\"outlinewidth\":0,\"ticks\":\"\"},\"colorscale\":[[0.0,\"#0d0887\"],[0.1111111111111111,\"#46039f\"],[0.2222222222222222,\"#7201a8\"],[0.3333333333333333,\"#9c179e\"],[0.4444444444444444,\"#bd3786\"],[0.5555555555555556,\"#d8576b\"],[0.6666666666666666,\"#ed7953\"],[0.7777777777777778,\"#fb9f3a\"],[0.8888888888888888,\"#fdca26\"],[1.0,\"#f0f921\"]]}],\"mesh3d\":[{\"type\":\"mesh3d\",\"colorbar\":{\"outlinewidth\":0,\"ticks\":\"\"}}],\"scatter\":[{\"fillpattern\":{\"fillmode\":\"overlay\",\"size\":10,\"solidity\":0.2},\"type\":\"scatter\"}],\"parcoords\":[{\"type\":\"parcoords\",\"line\":{\"colorbar\":{\"outlinewidth\":0,\"ticks\":\"\"}}}],\"scatterpolargl\":[{\"type\":\"scatterpolargl\",\"marker\":{\"colorbar\":{\"outlinewidth\":0,\"ticks\":\"\"}}}],\"bar\":[{\"error_x\":{\"color\":\"#2a3f5f\"},\"error_y\":{\"color\":\"#2a3f5f\"},\"marker\":{\"line\":{\"color\":\"#E5ECF6\",\"width\":0.5},\"pattern\":{\"fillmode\":\"overlay\",\"size\":10,\"solidity\":0.2}},\"type\":\"bar\"}],\"scattergeo\":[{\"type\":\"scattergeo\",\"marker\":{\"colorbar\":{\"outlinewidth\":0,\"ticks\":\"\"}}}],\"scatterpolar\":[{\"type\":\"scatterpolar\",\"marker\":{\"colorbar\":{\"outlinewidth\":0,\"ticks\":\"\"}}}],\"histogram\":[{\"marker\":{\"pattern\":{\"fillmode\":\"overlay\",\"size\":10,\"solidity\":0.2}},\"type\":\"histogram\"}],\"scattergl\":[{\"type\":\"scattergl\",\"marker\":{\"colorbar\":{\"outlinewidth\":0,\"ticks\":\"\"}}}],\"scatter3d\":[{\"type\":\"scatter3d\",\"line\":{\"colorbar\":{\"outlinewidth\":0,\"ticks\":\"\"}},\"marker\":{\"colorbar\":{\"outlinewidth\":0,\"ticks\":\"\"}}}],\"scattermapbox\":[{\"type\":\"scattermapbox\",\"marker\":{\"colorbar\":{\"outlinewidth\":0,\"ticks\":\"\"}}}],\"scatterternary\":[{\"type\":\"scatterternary\",\"marker\":{\"colorbar\":{\"outlinewidth\":0,\"ticks\":\"\"}}}],\"scattercarpet\":[{\"type\":\"scattercarpet\",\"marker\":{\"colorbar\":{\"outlinewidth\":0,\"ticks\":\"\"}}}],\"carpet\":[{\"aaxis\":{\"endlinecolor\":\"#2a3f5f\",\"gridcolor\":\"white\",\"linecolor\":\"white\",\"minorgridcolor\":\"white\",\"startlinecolor\":\"#2a3f5f\"},\"baxis\":{\"endlinecolor\":\"#2a3f5f\",\"gridcolor\":\"white\",\"linecolor\":\"white\",\"minorgridcolor\":\"white\",\"startlinecolor\":\"#2a3f5f\"},\"type\":\"carpet\"}],\"table\":[{\"cells\":{\"fill\":{\"color\":\"#EBF0F8\"},\"line\":{\"color\":\"white\"}},\"header\":{\"fill\":{\"color\":\"#C8D4E3\"},\"line\":{\"color\":\"white\"}},\"type\":\"table\"}],\"barpolar\":[{\"marker\":{\"line\":{\"color\":\"#E5ECF6\",\"width\":0.5},\"pattern\":{\"fillmode\":\"overlay\",\"size\":10,\"solidity\":0.2}},\"type\":\"barpolar\"}],\"pie\":[{\"automargin\":true,\"type\":\"pie\"}]},\"layout\":{\"autotypenumbers\":\"strict\",\"colorway\":[\"#636efa\",\"#EF553B\",\"#00cc96\",\"#ab63fa\",\"#FFA15A\",\"#19d3f3\",\"#FF6692\",\"#B6E880\",\"#FF97FF\",\"#FECB52\"],\"font\":{\"color\":\"#2a3f5f\"},\"hovermode\":\"closest\",\"hoverlabel\":{\"align\":\"left\"},\"paper_bgcolor\":\"white\",\"plot_bgcolor\":\"#E5ECF6\",\"polar\":{\"bgcolor\":\"#E5ECF6\",\"angularaxis\":{\"gridcolor\":\"white\",\"linecolor\":\"white\",\"ticks\":\"\"},\"radialaxis\":{\"gridcolor\":\"white\",\"linecolor\":\"white\",\"ticks\":\"\"}},\"ternary\":{\"bgcolor\":\"#E5ECF6\",\"aaxis\":{\"gridcolor\":\"white\",\"linecolor\":\"white\",\"ticks\":\"\"},\"baxis\":{\"gridcolor\":\"white\",\"linecolor\":\"white\",\"ticks\":\"\"},\"caxis\":{\"gridcolor\":\"white\",\"linecolor\":\"white\",\"ticks\":\"\"}},\"coloraxis\":{\"colorbar\":{\"outlinewidth\":0,\"ticks\":\"\"}},\"colorscale\":{\"sequential\":[[0.0,\"#0d0887\"],[0.1111111111111111,\"#46039f\"],[0.2222222222222222,\"#7201a8\"],[0.3333333333333333,\"#9c179e\"],[0.4444444444444444,\"#bd3786\"],[0.5555555555555556,\"#d8576b\"],[0.6666666666666666,\"#ed7953\"],[0.7777777777777778,\"#fb9f3a\"],[0.8888888888888888,\"#fdca26\"],[1.0,\"#f0f921\"]],\"sequentialminus\":[[0.0,\"#0d0887\"],[0.1111111111111111,\"#46039f\"],[0.2222222222222222,\"#7201a8\"],[0.3333333333333333,\"#9c179e\"],[0.4444444444444444,\"#bd3786\"],[0.5555555555555556,\"#d8576b\"],[0.6666666666666666,\"#ed7953\"],[0.7777777777777778,\"#fb9f3a\"],[0.8888888888888888,\"#fdca26\"],[1.0,\"#f0f921\"]],\"diverging\":[[0,\"#8e0152\"],[0.1,\"#c51b7d\"],[0.2,\"#de77ae\"],[0.3,\"#f1b6da\"],[0.4,\"#fde0ef\"],[0.5,\"#f7f7f7\"],[0.6,\"#e6f5d0\"],[0.7,\"#b8e186\"],[0.8,\"#7fbc41\"],[0.9,\"#4d9221\"],[1,\"#276419\"]]},\"xaxis\":{\"gridcolor\":\"white\",\"linecolor\":\"white\",\"ticks\":\"\",\"title\":{\"standoff\":15},\"zerolinecolor\":\"white\",\"automargin\":true,\"zerolinewidth\":2},\"yaxis\":{\"gridcolor\":\"white\",\"linecolor\":\"white\",\"ticks\":\"\",\"title\":{\"standoff\":15},\"zerolinecolor\":\"white\",\"automargin\":true,\"zerolinewidth\":2},\"scene\":{\"xaxis\":{\"backgroundcolor\":\"#E5ECF6\",\"gridcolor\":\"white\",\"linecolor\":\"white\",\"showbackground\":true,\"ticks\":\"\",\"zerolinecolor\":\"white\",\"gridwidth\":2},\"yaxis\":{\"backgroundcolor\":\"#E5ECF6\",\"gridcolor\":\"white\",\"linecolor\":\"white\",\"showbackground\":true,\"ticks\":\"\",\"zerolinecolor\":\"white\",\"gridwidth\":2},\"zaxis\":{\"backgroundcolor\":\"#E5ECF6\",\"gridcolor\":\"white\",\"linecolor\":\"white\",\"showbackground\":true,\"ticks\":\"\",\"zerolinecolor\":\"white\",\"gridwidth\":2}},\"shapedefaults\":{\"line\":{\"color\":\"#2a3f5f\"}},\"annotationdefaults\":{\"arrowcolor\":\"#2a3f5f\",\"arrowhead\":0,\"arrowwidth\":1},\"geo\":{\"bgcolor\":\"white\",\"landcolor\":\"#E5ECF6\",\"subunitcolor\":\"white\",\"showland\":true,\"showlakes\":true,\"lakecolor\":\"white\"},\"title\":{\"x\":0.05},\"mapbox\":{\"style\":\"light\"}}}},                        {\"responsive\": true}                    ).then(function(){\n",
       "                            \n",
       "var gd = document.getElementById('5cd272c1-ba0d-4a82-9273-e813a45af532');\n",
       "var x = new MutationObserver(function (mutations, observer) {{\n",
       "        var display = window.getComputedStyle(gd).display;\n",
       "        if (!display || display === 'none') {{\n",
       "            console.log([gd, 'removed!']);\n",
       "            Plotly.purge(gd);\n",
       "            observer.disconnect();\n",
       "        }}\n",
       "}});\n",
       "\n",
       "// Listen for the removal of the full notebook cells\n",
       "var notebookContainer = gd.closest('#notebook-container');\n",
       "if (notebookContainer) {{\n",
       "    x.observe(notebookContainer, {childList: true});\n",
       "}}\n",
       "\n",
       "// Listen for the clearing of the current output cell\n",
       "var outputEl = gd.closest('.output');\n",
       "if (outputEl) {{\n",
       "    x.observe(outputEl, {childList: true});\n",
       "}}\n",
       "\n",
       "                        })                };                });            </script>        </div>"
      ]
     },
     "metadata": {},
     "output_type": "display_data"
    }
   ],
   "source": [
    "i_ct = cumulative_trapezoid(X[0,0])\n",
    "\n",
    "lines=[i_ct,X[0,0]]\n",
    "\n",
    "t = np.linspace(0,127,128)\n",
    "\n",
    "fig = go.Figure()\n",
    "fig.add_trace(go.Line(x=t,y=lines[0],name=f'cumulative trapezoid'))\n",
    "\n",
    "fig.add_trace(go.Line(x=t,y=lines[1],name=f'original signal'))\n",
    "\n",
    "fig.show()"
   ]
  },
  {
   "cell_type": "markdown",
   "id": "167f0439",
   "metadata": {
    "papermill": {
     "duration": 0.004589,
     "end_time": "2022-12-28T22:11:57.536088",
     "exception": false,
     "start_time": "2022-12-28T22:11:57.531499",
     "status": "completed"
    },
    "tags": []
   },
   "source": [
    "## Creating Feature Spaces"
   ]
  },
  {
   "cell_type": "markdown",
   "id": "ab5d4229",
   "metadata": {
    "papermill": {
     "duration": 0.005248,
     "end_time": "2022-12-28T22:11:57.546052",
     "exception": false,
     "start_time": "2022-12-28T22:11:57.540804",
     "status": "completed"
    },
    "tags": []
   },
   "source": [
    "Possible feature spaces:\n",
    "\n",
    "1. raw signal\n",
    "2. derivative\n",
    "3. integration\n",
    "4. raw and derivative\n",
    "5. raw and integration\n",
    "6. derivative and integration\n",
    "7. raw and derivative and integration\n"
   ]
  },
  {
   "cell_type": "code",
   "execution_count": 7,
   "id": "427bbf0a",
   "metadata": {
    "execution": {
     "iopub.execute_input": "2022-12-28T22:11:57.557270Z",
     "iopub.status.busy": "2022-12-28T22:11:57.556407Z",
     "iopub.status.idle": "2022-12-28T22:12:02.255461Z",
     "shell.execute_reply": "2022-12-28T22:12:02.254205Z"
    },
    "papermill": {
     "duration": 4.707724,
     "end_time": "2022-12-28T22:12:02.258380",
     "exception": false,
     "start_time": "2022-12-28T22:11:57.550656",
     "status": "completed"
    },
    "tags": []
   },
   "outputs": [
    {
     "name": "stdout",
     "output_type": "stream",
     "text": [
      "Shapes\n",
      "X_raw: (1200000, 2, 128)\n",
      "X_diff: (1200000, 2, 128)\n",
      "X_int: (1200000, 2, 128)\n",
      "\n",
      "X_raw_diff: (1200000, 4, 128)\n",
      "X_raw_int: (1200000, 4, 128)\n",
      "X_diff_int: (1200000, 4, 128)\n",
      "\n",
      "X_all: (1200000, 6, 128)\n"
     ]
    }
   ],
   "source": [
    "X_raw = X\n",
    "X_diff = np.gradient(X,axis=-1)\n",
    "X_int = np.zeros_like(X)\n",
    "X_int[:,:,:-1] = np.array(cumulative_trapezoid(X))\n",
    "\n",
    "X_raw_diff = np.concatenate((X_raw,X_diff),axis=1)\n",
    "X_raw_int = np.concatenate((X_raw,X_int),axis=1)\n",
    "X_diff_int = np.concatenate((X_diff,X_int),axis=1)\n",
    "\n",
    "X_all = np.concatenate((X_raw,X_diff,X_int),axis=1)\n",
    "\n",
    "print(f'\\\n",
    "Shapes\\n\\\n",
    "X_raw: {X_raw.shape}\\n\\\n",
    "X_diff: {X_diff.shape}\\n\\\n",
    "X_int: {X_int.shape}\\n\\n\\\n",
    "X_raw_diff: {X_raw_diff.shape}\\n\\\n",
    "X_raw_int: {X_raw_int.shape}\\n\\\n",
    "X_diff_int: {X_diff_int.shape}\\n\\n\\\n",
    "X_all: {X_all.shape}')"
   ]
  },
  {
   "cell_type": "markdown",
   "id": "ba259125",
   "metadata": {
    "papermill": {
     "duration": 0.004715,
     "end_time": "2022-12-28T22:12:02.268781",
     "exception": false,
     "start_time": "2022-12-28T22:12:02.264066",
     "status": "completed"
    },
    "tags": []
   },
   "source": [
    "## Data Splitting"
   ]
  },
  {
   "cell_type": "code",
   "execution_count": 8,
   "id": "02e1ef1b",
   "metadata": {
    "execution": {
     "iopub.execute_input": "2022-12-28T22:12:02.281137Z",
     "iopub.status.busy": "2022-12-28T22:12:02.280462Z",
     "iopub.status.idle": "2022-12-28T22:12:02.285739Z",
     "shell.execute_reply": "2022-12-28T22:12:02.284935Z"
    },
    "papermill": {
     "duration": 0.013301,
     "end_time": "2022-12-28T22:12:02.287819",
     "exception": false,
     "start_time": "2022-12-28T22:12:02.274518",
     "status": "completed"
    },
    "tags": []
   },
   "outputs": [],
   "source": [
    "def split(x,y):\n",
    "    x_train, x_test, y_train, y_test = train_test_split(x, y, test_size = 0.3, random_state =1, stratify = y[:,0])\n",
    "    x_train, x_val, y_train, y_val = train_test_split(x_train, y_train, test_size = 0.05, random_state =1, stratify = y_train[:,0])\n",
    "    return x_train, x_val, x_test, y_train, y_val, y_test"
   ]
  }
 ],
 "metadata": {
  "kernelspec": {
   "display_name": "Python 3",
   "language": "python",
   "name": "python3"
  },
  "language_info": {
   "codemirror_mode": {
    "name": "ipython",
    "version": 3
   },
   "file_extension": ".py",
   "mimetype": "text/x-python",
   "name": "python",
   "nbconvert_exporter": "python",
   "pygments_lexer": "ipython3",
   "version": "3.7.12"
  },
  "papermill": {
   "default_parameters": {},
   "duration": 50.962295,
   "end_time": "2022-12-28T22:12:03.011322",
   "environment_variables": {},
   "exception": null,
   "input_path": "__notebook__.ipynb",
   "output_path": "__notebook__.ipynb",
   "parameters": {},
   "start_time": "2022-12-28T22:11:12.049027",
   "version": "2.3.4"
  }
 },
 "nbformat": 4,
 "nbformat_minor": 5
}
